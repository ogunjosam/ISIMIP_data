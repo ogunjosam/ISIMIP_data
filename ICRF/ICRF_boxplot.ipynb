{
  "nbformat": 4,
  "nbformat_minor": 0,
  "metadata": {
    "colab": {
      "name": "ICRF_boxplot.ipynb",
      "provenance": [],
      "authorship_tag": "ABX9TyO2qO8IGTvccN1nN70uTTna",
      "include_colab_link": true
    },
    "kernelspec": {
      "name": "python3",
      "display_name": "Python 3"
    },
    "language_info": {
      "name": "python"
    }
  },
  "cells": [
    {
      "cell_type": "markdown",
      "metadata": {
        "id": "view-in-github",
        "colab_type": "text"
      },
      "source": [
        "<a href=\"https://colab.research.google.com/github/ogunjosam/ISIMIP_data/blob/main/ICRF/ICRF_boxplot.ipynb\" target=\"_parent\"><img src=\"https://colab.research.google.com/assets/colab-badge.svg\" alt=\"Open In Colab\"/></a>"
      ]
    },
    {
      "cell_type": "markdown",
      "source": [
        "Import the necessary packages"
      ],
      "metadata": {
        "id": "NlcFPNkGfLU8"
      }
    },
    {
      "cell_type": "code",
      "execution_count": 2,
      "metadata": {
        "id": "8OIY3M2RerIm"
      },
      "outputs": [],
      "source": [
        "import xarray as xr\n",
        "import seaborn as sns\n",
        "import matplotlib.pyplot as plt\n",
        "import glob\n",
        "import calendar"
      ]
    },
    {
      "cell_type": "markdown",
      "source": [
        "Get access to the data.  You might comment out this part if you are running on your local computer"
      ],
      "metadata": {
        "id": "kwodtbJcfO9v"
      }
    },
    {
      "cell_type": "code",
      "source": [
        "!git clone -l -s 'https://github.com/ogunjosam/ISIMIP_data.git'\n",
        "\n",
        "\n",
        "%cd ICRF\n",
        "!dir"
      ],
      "metadata": {
        "colab": {
          "base_uri": "https://localhost:8080/"
        },
        "id": "1KCT2zsrfZ7V",
        "outputId": "ce27b4d5-d114-4105-f8fa-9a39f2a6a5ef"
      },
      "execution_count": 20,
      "outputs": [
        {
          "output_type": "stream",
          "name": "stdout",
          "text": [
            "/content/ISIMIP_data/ICRF\n",
            "pr_Amon_ACCESS-CM2_historical_r1i1p1f1_gn_20110116-20141216_v20191108.nc\n",
            "pr_Amon_AWI-CM-1-1-MR_historical_r1i1p1f1_gn_20110116-20141216_v20200511.nc\n",
            "pr_Amon_EC-Earth3-CC_historical_r1i1p1f1_gr_20110116-20141216_v20210113.nc\n",
            "pr_Amon_GFDL-ESM4_historical_r1i1p1f1_gr1_20110116-20141216_v20190726.nc\n",
            "readme\n"
          ]
        }
      ]
    },
    {
      "cell_type": "markdown",
      "source": [
        "Read all the .nc files in the folder"
      ],
      "metadata": {
        "id": "Fxv99CJGk-xW"
      }
    },
    {
      "cell_type": "code",
      "source": [
        "ffl = glob.glob('*.nc')\n",
        "\n",
        "for i, ii in enumerate(ffl):\n",
        "  dx = xr.open_dataset(ii)\n",
        "  print(ii)"
      ],
      "metadata": {
        "colab": {
          "base_uri": "https://localhost:8080/"
        },
        "id": "u-UGh_mblB7Z",
        "outputId": "7bea2e04-c744-478b-f0c6-e33a82782432"
      },
      "execution_count": 22,
      "outputs": [
        {
          "output_type": "stream",
          "name": "stdout",
          "text": [
            "pr_Amon_AWI-CM-1-1-MR_historical_r1i1p1f1_gn_20110116-20141216_v20200511.nc\n",
            "pr_Amon_EC-Earth3-CC_historical_r1i1p1f1_gr_20110116-20141216_v20210113.nc\n",
            "pr_Amon_ACCESS-CM2_historical_r1i1p1f1_gn_20110116-20141216_v20191108.nc\n",
            "pr_Amon_GFDL-ESM4_historical_r1i1p1f1_gr1_20110116-20141216_v20190726.nc\n"
          ]
        }
      ]
    }
  ]
}