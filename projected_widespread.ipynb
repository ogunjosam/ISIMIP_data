{
  "nbformat": 4,
  "nbformat_minor": 0,
  "metadata": {
    "colab": {
      "name": "projected_widespread.ipynb",
      "provenance": [],
      "collapsed_sections": [],
      "authorship_tag": "ABX9TyMgGoIimjZG1KZxc2MFmnri",
      "include_colab_link": true
    },
    "kernelspec": {
      "name": "python3",
      "display_name": "Python 3"
    },
    "language_info": {
      "name": "python"
    }
  },
  "cells": [
    {
      "cell_type": "markdown",
      "metadata": {
        "id": "view-in-github",
        "colab_type": "text"
      },
      "source": [
        "<a href=\"https://colab.research.google.com/github/ogunjosam/ISIMIP_data/blob/main/projected_widespread.ipynb\" target=\"_parent\"><img src=\"https://colab.research.google.com/assets/colab-badge.svg\" alt=\"Open In Colab\"/></a>"
      ]
    },
    {
      "cell_type": "code",
      "execution_count": 2,
      "metadata": {
        "colab": {
          "base_uri": "https://localhost:8080/",
          "height": 1000
        },
        "id": "vMxnxTxLdnxG",
        "outputId": "dfdf27fc-3470-474f-e475-d4f821d6cb80"
      },
      "outputs": [
        {
          "output_type": "stream",
          "name": "stdout",
          "text": [
            "url: https://cds.climate.copernicus.eu/api/v2\n",
            "key: 7930:d2b86b26-b915-42d8-b4b4-d55b4a8983ec\n",
            "Looking in indexes: https://pypi.org/simple, https://us-python.pkg.dev/colab-wheels/public/simple/\n",
            "Requirement already satisfied: cdsapi in /usr/local/lib/python3.7/site-packages (0.5.1)\n",
            "Requirement already satisfied: tqdm in /usr/local/lib/python3.7/site-packages (from cdsapi) (4.59.0)\n",
            "Requirement already satisfied: requests>=2.5.0 in /usr/local/lib/python3.7/site-packages (from cdsapi) (2.25.1)\n",
            "Requirement already satisfied: certifi>=2017.4.17 in /usr/local/lib/python3.7/site-packages (from requests>=2.5.0->cdsapi) (2022.6.15)\n",
            "Requirement already satisfied: chardet<5,>=3.0.2 in /usr/local/lib/python3.7/site-packages (from requests>=2.5.0->cdsapi) (4.0.0)\n",
            "Requirement already satisfied: idna<3,>=2.5 in /usr/local/lib/python3.7/site-packages (from requests>=2.5.0->cdsapi) (2.10)\n",
            "Requirement already satisfied: urllib3<1.27,>=1.21.1 in /usr/local/lib/python3.7/site-packages (from requests>=2.5.0->cdsapi) (1.26.3)\n",
            "\n",
            "Usage:   \n",
            "  pip3 <command> [options]\n",
            "\n",
            "no such option: -y\n",
            "Looking in indexes: https://pypi.org/simple, https://us-python.pkg.dev/colab-wheels/public/simple/\n",
            "Collecting cffi==1.15.0\n",
            "  Downloading cffi-1.15.0-cp37-cp37m-manylinux_2_12_x86_64.manylinux2010_x86_64.whl (427 kB)\n",
            "\u001b[K     |████████████████████████████████| 427 kB 4.9 MB/s \n",
            "\u001b[?25hRequirement already satisfied: pycparser in /usr/local/lib/python3.7/site-packages (from cffi==1.15.0) (2.20)\n",
            "Installing collected packages: cffi\n",
            "  Attempting uninstall: cffi\n",
            "    Found existing installation: cffi 1.14.5\n",
            "    Uninstalling cffi-1.14.5:\n",
            "      Successfully uninstalled cffi-1.14.5\n",
            "Successfully installed cffi-1.15.0\n",
            "Reading package lists... Done\n",
            "Building dependency tree       \n",
            "Reading state information... Done\n",
            "libproj-dev is already the newest version (4.9.3-2).\n",
            "libproj-dev set to manually installed.\n",
            "proj-data is already the newest version (4.9.3-2).\n",
            "proj-data set to manually installed.\n",
            "The following package was automatically installed and is no longer required:\n",
            "  libnvidia-common-460\n",
            "Use 'apt autoremove' to remove it.\n",
            "The following NEW packages will be installed:\n",
            "  proj-bin\n",
            "0 upgraded, 1 newly installed, 0 to remove and 20 not upgraded.\n",
            "Need to get 32.3 kB of archives.\n",
            "After this operation, 110 kB of additional disk space will be used.\n",
            "Get:1 http://archive.ubuntu.com/ubuntu bionic/universe amd64 proj-bin amd64 4.9.3-2 [32.3 kB]\n",
            "Fetched 32.3 kB in 0s (80.1 kB/s)\n",
            "Selecting previously unselected package proj-bin.\n",
            "(Reading database ... 155676 files and directories currently installed.)\n",
            "Preparing to unpack .../proj-bin_4.9.3-2_amd64.deb ...\n",
            "Unpacking proj-bin (4.9.3-2) ...\n",
            "Setting up proj-bin (4.9.3-2) ...\n",
            "Processing triggers for man-db (2.8.3-2ubuntu0.1) ...\n",
            "Reading package lists... Done\n",
            "Building dependency tree       \n",
            "Reading state information... Done\n",
            "libgeos-dev is already the newest version (3.6.2-1build2).\n",
            "libgeos-dev set to manually installed.\n",
            "The following package was automatically installed and is no longer required:\n",
            "  libnvidia-common-460\n",
            "Use 'apt autoremove' to remove it.\n",
            "0 upgraded, 0 newly installed, 0 to remove and 20 not upgraded.\n",
            "Looking in indexes: https://pypi.org/simple, https://us-python.pkg.dev/colab-wheels/public/simple/\n",
            "Collecting cython\n",
            "  Downloading Cython-0.29.32-cp37-cp37m-manylinux_2_17_x86_64.manylinux2014_x86_64.manylinux_2_24_x86_64.whl (1.9 MB)\n",
            "\u001b[K     |████████████████████████████████| 1.9 MB 4.9 MB/s \n",
            "\u001b[?25hInstalling collected packages: cython\n",
            "Successfully installed cython-0.29.32\n"
          ]
        },
        {
          "output_type": "display_data",
          "data": {
            "application/vnd.colab-display-data+json": {
              "pip_warning": {
                "packages": [
                  "Cython",
                  "cython"
                ]
              }
            }
          },
          "metadata": {}
        },
        {
          "output_type": "stream",
          "name": "stdout",
          "text": [
            "Looking in indexes: https://pypi.org/simple, https://us-python.pkg.dev/colab-wheels/public/simple/\n",
            "Collecting cartopy\n",
            "  Downloading Cartopy-0.20.3.tar.gz (10.8 MB)\n",
            "\u001b[K     |████████████████████████████████| 10.8 MB 2.2 MB/s \n",
            "\u001b[?25h  Installing build dependencies ... \u001b[?25l\u001b[?25hdone\n",
            "  Getting requirements to build wheel ... \u001b[?25l\u001b[?25herror\n",
            "\u001b[33mWARNING: Discarding https://files.pythonhosted.org/packages/98/a9/0e4000eabadfcff6373c0fec790863b543b919cbfec18aed60d71ba67d5d/Cartopy-0.20.3.tar.gz#sha256=0d60fa2e2fbd77c4d1f6b1f9d3b588966147f07c1b179d2d34570ac1e1b49006 (from https://pypi.org/simple/cartopy/) (requires-python:>=3.7). Command errored out with exit status 1: /usr/local/bin/python3.7 /usr/local/lib/python3.7/site-packages/pip/_vendor/pep517/_in_process.py get_requires_for_build_wheel /tmp/tmpjkeujgs2 Check the logs for full command output.\u001b[0m\n",
            "  Downloading Cartopy-0.20.2.tar.gz (10.8 MB)\n",
            "\u001b[K     |████████████████████████████████| 10.8 MB 40.0 MB/s \n",
            "\u001b[?25h  Installing build dependencies ... \u001b[?25l\u001b[?25hdone\n",
            "  Getting requirements to build wheel ... \u001b[?25l\u001b[?25herror\n",
            "\u001b[33mWARNING: Discarding https://files.pythonhosted.org/packages/f6/55/1e1c737dc9436b320deead73d1c455ddbb74b8b6992081863492f6f6378a/Cartopy-0.20.2.tar.gz#sha256=4d08c198ecaa50a6a6b109d0f14c070e813defc046a83ac5d7ab494f85599e35 (from https://pypi.org/simple/cartopy/) (requires-python:>=3.7). Command errored out with exit status 1: /usr/local/bin/python3.7 /usr/local/lib/python3.7/site-packages/pip/_vendor/pep517/_in_process.py get_requires_for_build_wheel /tmp/tmp45ss5ix9 Check the logs for full command output.\u001b[0m\n",
            "  Downloading Cartopy-0.20.1.tar.gz (10.8 MB)\n",
            "\u001b[K     |████████████████████████████████| 10.8 MB 20.0 MB/s \n",
            "\u001b[?25h  Installing build dependencies ... \u001b[?25l\u001b[?25hdone\n",
            "  Getting requirements to build wheel ... \u001b[?25l\u001b[?25herror\n",
            "\u001b[33mWARNING: Discarding https://files.pythonhosted.org/packages/fc/59/aa52698e3838f4cd0e7eaa75bd86837e9e0b05041dbdaee3cda2fffced06/Cartopy-0.20.1.tar.gz#sha256=91f87b130e2574547a20cd634498df97d797abd12dcfd0235bc0cdbcec8b05e3 (from https://pypi.org/simple/cartopy/) (requires-python:>=3.7). Command errored out with exit status 1: /usr/local/bin/python3.7 /usr/local/lib/python3.7/site-packages/pip/_vendor/pep517/_in_process.py get_requires_for_build_wheel /tmp/tmphb6o3941 Check the logs for full command output.\u001b[0m\n",
            "  Downloading Cartopy-0.20.0.tar.gz (10.8 MB)\n",
            "\u001b[K     |████████████████████████████████| 10.8 MB 20.2 MB/s \n",
            "\u001b[?25h  Installing build dependencies ... \u001b[?25l\u001b[?25hdone\n",
            "  Getting requirements to build wheel ... \u001b[?25l\u001b[?25herror\n",
            "\u001b[33mWARNING: Discarding https://files.pythonhosted.org/packages/0f/c0/58453b036e79046d211f083880d58dcce787e7e07647ac25dc46c6555099/Cartopy-0.20.0.tar.gz#sha256=eae58aff26806e63cf115b2bce9477cedc4aa9f578c5e477b2c25cfa404f2b7a (from https://pypi.org/simple/cartopy/) (requires-python:>=3.7). Command errored out with exit status 1: /usr/local/bin/python3.7 /usr/local/lib/python3.7/site-packages/pip/_vendor/pep517/_in_process.py get_requires_for_build_wheel /tmp/tmpnv7xm18q Check the logs for full command output.\u001b[0m\n",
            "  Downloading Cartopy-0.19.0.post1.tar.gz (12.1 MB)\n",
            "\u001b[K     |████████████████████████████████| 12.1 MB 31.7 MB/s \n",
            "\u001b[?25h  Installing build dependencies ... \u001b[?25l\u001b[?25hdone\n",
            "  Getting requirements to build wheel ... \u001b[?25l\u001b[?25hdone\n",
            "    Preparing wheel metadata ... \u001b[?25l\u001b[?25hdone\n",
            "Requirement already satisfied: numpy>=1.13.3 in /usr/local/lib/python3.7/site-packages (from cartopy) (1.21.6)\n",
            "Collecting pyshp>=2\n",
            "  Downloading pyshp-2.3.1-py2.py3-none-any.whl (46 kB)\n",
            "\u001b[K     |████████████████████████████████| 46 kB 3.7 MB/s \n",
            "\u001b[?25hCollecting shapely>=1.5.6\n",
            "  Downloading Shapely-1.8.4-cp37-cp37m-manylinux_2_12_x86_64.manylinux2010_x86_64.whl (2.0 MB)\n",
            "\u001b[K     |████████████████████████████████| 2.0 MB 39.7 MB/s \n",
            "\u001b[?25hBuilding wheels for collected packages: cartopy\n",
            "  Building wheel for cartopy (PEP 517) ... \u001b[?25l\u001b[?25hdone\n",
            "  Created wheel for cartopy: filename=Cartopy-0.19.0.post1-cp37-cp37m-linux_x86_64.whl size=12542277 sha256=b13be09e2446ff59c177fb14346cef27a29385958f32faebda0cb1f66f91dc7d\n",
            "  Stored in directory: /root/.cache/pip/wheels/98/01/f7/bd10aeb96fe4b518cde5f7c4f5e12c7202f85b7353a5017847\n",
            "Successfully built cartopy\n",
            "Installing collected packages: shapely, pyshp, cartopy\n",
            "Successfully installed cartopy-0.19.0.post1 pyshp-2.3.1 shapely-1.8.4\n"
          ]
        }
      ],
      "source": [
        "!pip install -q condacolab\n",
        "import condacolab\n",
        "condacolab.install()\n",
        "!sudo apt install gcc-9\n",
        "!sudo apt install libstdc++6\n",
        "!conda install -y -c conda-forge esmpy xesmf python=3.7\n",
        "\n",
        "# Input key\n",
        "url = 'url: https://cds.climate.copernicus.eu/api/v2'\n",
        "key = 'key: 7930:d2b86b26-b915-42d8-b4b4-d55b4a8983ec'\n",
        "with open('/root/.cdsapirc', 'w') as f:\n",
        "    f.write('\\n'.join([url, key]))\n",
        "with open('/root/.cdsapirc') as f:\n",
        "    print(f.read())\n",
        "\n",
        "!pip install cdsapi \n",
        "import cdsapi\n",
        "#!python -m pip install \"xarray[io]\"\n",
        "\n",
        "import os\n",
        "import shutil\n",
        "import zipfile\n",
        "import os, sys, os.path\n",
        "from zipfile import ZipFile\n",
        "import shutil\n",
        "import zipfile\n",
        "import netCDF4\n",
        "try:\n",
        "  import xesmf as xe \n",
        "  import xarray as xr\n",
        "  import pandas as pd\n",
        "  import numpy as np\n",
        "except OSError:\n",
        "  try:\n",
        "    import xarray as xr\n",
        "    import pandas as pd\n",
        "    import numpy as np\n",
        "    import xesmf as xe\n",
        "  except:\n",
        "    print('try something else')\n",
        "else:\n",
        "  import xarray as xr\n",
        "  import pandas as pd\n",
        "  import numpy as np\n",
        "  import xesmf as xe\n",
        "\n",
        "\n",
        "!pip3 -y uninstall cffi\n",
        "!pip install --upgrade cffi==1.15.0\n",
        "\n",
        "!apt-get install libproj-dev proj-data proj-bin\n",
        "!apt-get install libgeos-dev\n",
        "!pip install cython\n",
        "!pip install cartopy"
      ]
    },
    {
      "cell_type": "code",
      "source": [
        "source = ['ACCESS-CM2','AWI-CM-1-1-MR','BCC-CSM2-MR','CAMS-CSM1-0','CanESM5','CESM2','CMCC-CM2-SR5','CMCC-ESM2','CNRM-CM6-1','CNRM-ESM2-1',\n",
        "'EC-Earth3-CC','EC-Earth3-Veg-LR','FGOALS-g3','GFDL-ESM4','HadGEM3-GC31-LL','IITM-ESM','INM-CM4-8','INM-CM5-0','IPSL-CM6A-LR',\n",
        "          'KACE-1-0-G','KIOST-ESM','MIROC6','MIROC-ES2L','MPI-ESM1-2-LR','MRI-ESM2-0','NESM3','NorESM2-LM','NorESM2-MM','UKESM1-0-LL']"
      ],
      "metadata": {
        "id": "yVgb81gLdpRW"
      },
      "execution_count": 3,
      "outputs": []
    },
    {
      "cell_type": "code",
      "source": [
        "def era5_extractor(experiment,ii):\n",
        "  llat = 4.59\n",
        "  ulat = 23.1\n",
        "  llon = -19.96\n",
        "  rlon = 15.46\n",
        "\n",
        "  c = cdsapi.Client()\n",
        "  c.retrieve('projections-cmip6',\n",
        "                {\n",
        "                'format': 'zip',\n",
        "                'temporal_resolution': 'daily',\n",
        "                'experiment': experiment,\n",
        "                'level': 'single_levels',\n",
        "                'variable': 'precipitation',\n",
        "                'date': '1981-01-01/2100-12-31',\n",
        "                'area': [\n",
        "                        23.1, -19.96, 15.46,\n",
        "                        4.59,\n",
        "                        ],\n",
        "                'model': ii,\n",
        "                  },\n",
        "              'temp.zip')    \n",
        "      \n",
        "  with zipfile.ZipFile('temp.zip',\"r\") as zip_ref:\n",
        "    listOfFileNames = zip_ref.namelist()\n",
        "    for fileName in listOfFileNames:\n",
        "      if fileName.endswith('.nc'):\n",
        "        zip_ref.extract(fileName)\n",
        "        break\n",
        "\n",
        "  pp = xr.open_dataset(fileName, chunks={\"latitude\": 10, \"longitude\": 10})\n",
        "  if 'time_bnds' in list(pp.variables):\n",
        "\t  pp = pp.drop_vars('time_bnds')\n",
        "      \n",
        "  if 'lon_bnds' in list(pp.variables):\n",
        "\t  pp = pp.drop_vars('lon_bnds')\n",
        "      \n",
        "  if 'lat_bnds' in list(pp.variables):\n",
        "\t  pp = pp.drop_vars('lat_bnds')\n",
        "      \n",
        "  if 'axis_nbounds' in list(pp.variables):\n",
        "    pp = pp.drop_vars('axis_nbounds')\n",
        "  \n",
        "  if 'plev_bnds' in list(pp.variables):\n",
        "    pp = pp.drop_vars('plev_bnds')\n",
        "      \n",
        "  ds_out = xr.Dataset(\n",
        "              {\n",
        "              \"lat\": ([\"latitude\"], np.arange(llat, ulat, 0.5)),\n",
        "              \"lon\": ([\"longitude\"], np.arange(llon, rlon, 0.5)),\n",
        "              }\n",
        "              )    \n",
        "      # set up the regridding\n",
        "  try:  \n",
        "    print('Trying conservative regridding')\n",
        "    regridder = xe.Regridder(pp, ds_out, \"conservative\")\n",
        "  except:\n",
        "    print('Conservative regridding failed:')\n",
        "    print('Using bilinear regridding')\n",
        "    regridder = xe.Regridder(pp, ds_out, 'bilinear')\n",
        "\n",
        "  ds_in = regridder(pp)\n",
        "\n",
        "  %rm \"$fileName\"\n",
        "  del pp\n",
        "  \n",
        "  return ds_in\n",
        "\n",
        "def sort_precip(rh):\n",
        "  vx = []\n",
        "  ppr = rh['pr'].values*86400\n",
        "  cc = ppr.shape[1]*ppr.shape[2]\n",
        "\n",
        "  for i in np.arange(np.shape(ppr)[0]):\n",
        "    v1 = (np.count_nonzero(ppr[i,:,:] >= 1)/cc)*100\n",
        "    v5 = (np.count_nonzero(ppr[i,:,:] >= 5)/cc)*100\n",
        "    v10 = (np.count_nonzero(ppr[i,:,:] >= 10)/cc)*100\n",
        "    vx.append([rh['time'].values[i],np.round(v1,2),np.round(v5,2),np.round(v10,2)])\n",
        "    #print([rh['time'].values[i],np.round(v1,3),np.round(v5,3),np.round(v10,3)])\n",
        "\n",
        "\n",
        "\n",
        "  vy = pd.DataFrame(vx,columns=['Date','1mm','5mm','10mm'])\n",
        "  vy = vy.set_index('Date')\n",
        "  \n",
        "  return vy"
      ],
      "metadata": {
        "id": "VMlG05GUeFQg"
      },
      "execution_count": 79,
      "outputs": []
    },
    {
      "cell_type": "code",
      "source": [
        "writer = pd.ExcelWriter('results.xlsx',mode='a',if_sheet_exists='replace', engine=\"openpyxl\")\n",
        "for i, ii in enumerate(source):\n",
        "  for j, jj in enumerate(['ssp2_4_5','ssp5_8_5']):\n",
        "    print([ii,jj])\n",
        "    try:\n",
        "      rh = era5_extractor(jj,ii)\n",
        "    except:\n",
        "      continue\n",
        "    cb = sort_precip(rh)\n",
        "    cb.to_excel(writer, sheet_name=ii+'_'+jj)\n",
        "\n",
        "writer.save()"
      ],
      "metadata": {
        "colab": {
          "base_uri": "https://localhost:8080/"
        },
        "id": "ICyp3f92eoWW",
        "outputId": "3553b951-7eb4-49f1-a770-20b6141a3362"
      },
      "execution_count": null,
      "outputs": [
        {
          "output_type": "stream",
          "name": "stdout",
          "text": [
            "['ACCESS-CM2', 'ssp2_4_5']\n"
          ]
        },
        {
          "output_type": "stream",
          "name": "stderr",
          "text": [
            "2022-08-20 19:36:44,222 INFO Welcome to the CDS\n",
            "2022-08-20 19:36:44,224 INFO Sending request to https://cds.climate.copernicus.eu/api/v2/resources/projections-cmip6\n",
            "2022-08-20 19:36:44,389 INFO Request is completed\n",
            "2022-08-20 19:36:44,392 INFO Downloading https://download-0012-clone.copernicus-climate.eu/cache-compute-0012/cache/data6/adaptor.esgf_wps.retrieve-1661011271.0059571-7024-19-1740a4cb-6aeb-4aae-8316-ed112c7db533.zip to temp.zip (11.7M)\n",
            "2022-08-20 19:36:46,301 INFO Download rate 6.2M/s\n"
          ]
        },
        {
          "output_type": "stream",
          "name": "stdout",
          "text": [
            "Trying conservative regridding\n",
            "Conservative regridding failed:\n",
            "Using bilinear regridding\n",
            "Overwrite existing file: bilinear_6x13_38x71.nc \n",
            " You can set reuse_weights=True to save computing time.\n",
            "using dimensions ('lat', 'lon') from data variable pr as the horizontal dimensions for this dataset.\n"
          ]
        },
        {
          "output_type": "stream",
          "name": "stderr",
          "text": [
            "/usr/local/lib/python3.7/site-packages/xesmf/frontend.py:486: FutureWarning: ``output_sizes`` should be given in the ``dask_gufunc_kwargs`` parameter. It will be removed as direct parameter in a future version.\n",
            "  keep_attrs=keep_attrs\n",
            "2022-08-20 19:36:56,007 INFO Welcome to the CDS\n",
            "2022-08-20 19:36:56,009 INFO Sending request to https://cds.climate.copernicus.eu/api/v2/resources/projections-cmip6\n"
          ]
        },
        {
          "output_type": "stream",
          "name": "stdout",
          "text": [
            "['ACCESS-CM2', 'ssp5_8_5']\n"
          ]
        },
        {
          "output_type": "stream",
          "name": "stderr",
          "text": [
            "2022-08-20 19:36:56,208 INFO Request is completed\n",
            "2022-08-20 19:36:56,210 INFO Downloading https://download-0000-clone.copernicus-climate.eu/cache-compute-0000/cache/data1/adaptor.esgf_wps.retrieve-1661003615.2340407-20886-18-7e968036-d0d9-4af3-b7a6-06785fcd3151.zip to temp.zip (11.7M)\n",
            "2022-08-20 19:36:58,073 INFO Download rate 6.3M/s\n"
          ]
        },
        {
          "output_type": "stream",
          "name": "stdout",
          "text": [
            "Trying conservative regridding\n",
            "Conservative regridding failed:\n",
            "Using bilinear regridding\n",
            "Overwrite existing file: bilinear_6x13_38x71.nc \n",
            " You can set reuse_weights=True to save computing time.\n",
            "using dimensions ('lat', 'lon') from data variable pr as the horizontal dimensions for this dataset.\n"
          ]
        },
        {
          "output_type": "stream",
          "name": "stderr",
          "text": [
            "/usr/local/lib/python3.7/site-packages/xesmf/frontend.py:486: FutureWarning: ``output_sizes`` should be given in the ``dask_gufunc_kwargs`` parameter. It will be removed as direct parameter in a future version.\n",
            "  keep_attrs=keep_attrs\n",
            "2022-08-20 19:37:10,515 INFO Welcome to the CDS\n",
            "2022-08-20 19:37:10,517 INFO Sending request to https://cds.climate.copernicus.eu/api/v2/resources/projections-cmip6\n"
          ]
        },
        {
          "output_type": "stream",
          "name": "stdout",
          "text": [
            "['AWI-CM-1-1-MR', 'ssp2_4_5']\n"
          ]
        },
        {
          "output_type": "stream",
          "name": "stderr",
          "text": [
            "2022-08-20 19:37:10,676 INFO Request is completed\n",
            "2022-08-20 19:37:10,678 INFO Downloading https://download-0006-clone.copernicus-climate.eu/cache-compute-0006/cache/data8/adaptor.esgf_wps.retrieve-1661011569.809959-7218-15-ee685cb5-74e8-4477-b814-6942cb2e9b40.zip to temp.zip (36.2M)\n",
            "2022-08-20 19:37:14,312 INFO Download rate 10M/s\n"
          ]
        },
        {
          "output_type": "stream",
          "name": "stdout",
          "text": [
            "Trying conservative regridding\n",
            "Conservative regridding failed:\n",
            "Using bilinear regridding\n",
            "Overwrite existing file: bilinear_8x26_38x71.nc \n",
            " You can set reuse_weights=True to save computing time.\n",
            "using dimensions ('lat', 'lon') from data variable pr as the horizontal dimensions for this dataset.\n"
          ]
        },
        {
          "output_type": "stream",
          "name": "stderr",
          "text": [
            "/usr/local/lib/python3.7/site-packages/xesmf/frontend.py:486: FutureWarning: ``output_sizes`` should be given in the ``dask_gufunc_kwargs`` parameter. It will be removed as direct parameter in a future version.\n",
            "  keep_attrs=keep_attrs\n",
            "2022-08-20 19:37:27,407 INFO Welcome to the CDS\n",
            "2022-08-20 19:37:27,409 INFO Sending request to https://cds.climate.copernicus.eu/api/v2/resources/projections-cmip6\n"
          ]
        },
        {
          "output_type": "stream",
          "name": "stdout",
          "text": [
            "['AWI-CM-1-1-MR', 'ssp5_8_5']\n"
          ]
        },
        {
          "output_type": "stream",
          "name": "stderr",
          "text": [
            "2022-08-20 19:37:27,587 INFO Request is completed\n",
            "2022-08-20 19:37:27,589 INFO Downloading https://download-0017.copernicus-climate.eu/cache-compute-0017/cache/data9/adaptor.esgf_wps.retrieve-1661003852.6547244-823-16-ff63aee9-f107-4d93-9739-aae8e7a40230.zip to temp.zip (36.2M)\n",
            "2022-08-20 19:37:30,926 INFO Download rate 10.9M/s\n"
          ]
        },
        {
          "output_type": "stream",
          "name": "stdout",
          "text": [
            "Trying conservative regridding\n",
            "Conservative regridding failed:\n",
            "Using bilinear regridding\n",
            "Overwrite existing file: bilinear_8x26_38x71.nc \n",
            " You can set reuse_weights=True to save computing time.\n",
            "using dimensions ('lat', 'lon') from data variable pr as the horizontal dimensions for this dataset.\n"
          ]
        },
        {
          "output_type": "stream",
          "name": "stderr",
          "text": [
            "/usr/local/lib/python3.7/site-packages/xesmf/frontend.py:486: FutureWarning: ``output_sizes`` should be given in the ``dask_gufunc_kwargs`` parameter. It will be removed as direct parameter in a future version.\n",
            "  keep_attrs=keep_attrs\n",
            "2022-08-20 19:37:41,426 INFO Welcome to the CDS\n",
            "2022-08-20 19:37:41,433 INFO Sending request to https://cds.climate.copernicus.eu/api/v2/resources/projections-cmip6\n"
          ]
        },
        {
          "output_type": "stream",
          "name": "stdout",
          "text": [
            "['BCC-CSM2-MR', 'ssp2_4_5']\n"
          ]
        },
        {
          "output_type": "stream",
          "name": "stderr",
          "text": [
            "2022-08-20 19:37:41,613 INFO Request is completed\n",
            "2022-08-20 19:37:41,615 INFO Downloading https://download-0004-clone.copernicus-climate.eu/cache-compute-0004/cache/data3/adaptor.esgf_wps.retrieve-1661019645.7828617-523-8-52012566-fdf0-420b-9f9a-15a9776bfed7.zip to temp.zip (33.2M)\n",
            "2022-08-20 19:37:44,962 INFO Download rate 9.9M/s\n"
          ]
        },
        {
          "output_type": "stream",
          "name": "stdout",
          "text": [
            "Trying conservative regridding\n",
            "Conservative regridding failed:\n",
            "Using bilinear regridding\n",
            "Overwrite existing file: bilinear_7x22_38x71.nc \n",
            " You can set reuse_weights=True to save computing time.\n",
            "using dimensions ('lat', 'lon') from data variable pr as the horizontal dimensions for this dataset.\n"
          ]
        },
        {
          "output_type": "stream",
          "name": "stderr",
          "text": [
            "/usr/local/lib/python3.7/site-packages/xesmf/frontend.py:486: FutureWarning: ``output_sizes`` should be given in the ``dask_gufunc_kwargs`` parameter. It will be removed as direct parameter in a future version.\n",
            "  keep_attrs=keep_attrs\n",
            "2022-08-20 19:37:54,826 INFO Welcome to the CDS\n",
            "2022-08-20 19:37:54,828 INFO Sending request to https://cds.climate.copernicus.eu/api/v2/resources/projections-cmip6\n"
          ]
        },
        {
          "output_type": "stream",
          "name": "stdout",
          "text": [
            "['BCC-CSM2-MR', 'ssp5_8_5']\n"
          ]
        },
        {
          "output_type": "stream",
          "name": "stderr",
          "text": [
            "2022-08-20 19:37:55,086 INFO Request is completed\n",
            "2022-08-20 19:37:55,088 INFO Downloading https://download-0004-clone.copernicus-climate.eu/cache-compute-0004/cache/data2/adaptor.esgf_wps.retrieve-1661019917.0678337-9733-4-19e446dc-6bf6-40d1-9708-9c6ee7c0245c.zip to temp.zip (33.2M)\n",
            "2022-08-20 19:38:00,120 INFO Download rate 6.6M/s\n"
          ]
        },
        {
          "output_type": "stream",
          "name": "stdout",
          "text": [
            "Trying conservative regridding\n",
            "Conservative regridding failed:\n",
            "Using bilinear regridding\n",
            "Overwrite existing file: bilinear_7x22_38x71.nc \n",
            " You can set reuse_weights=True to save computing time.\n",
            "using dimensions ('lat', 'lon') from data variable pr as the horizontal dimensions for this dataset.\n"
          ]
        },
        {
          "output_type": "stream",
          "name": "stderr",
          "text": [
            "/usr/local/lib/python3.7/site-packages/xesmf/frontend.py:486: FutureWarning: ``output_sizes`` should be given in the ``dask_gufunc_kwargs`` parameter. It will be removed as direct parameter in a future version.\n",
            "  keep_attrs=keep_attrs\n",
            "2022-08-20 19:38:10,012 INFO Welcome to the CDS\n",
            "2022-08-20 19:38:10,014 INFO Sending request to https://cds.climate.copernicus.eu/api/v2/resources/projections-cmip6\n"
          ]
        },
        {
          "output_type": "stream",
          "name": "stdout",
          "text": [
            "['CAMS-CSM1-0', 'ssp2_4_5']\n"
          ]
        },
        {
          "output_type": "stream",
          "name": "stderr",
          "text": [
            "2022-08-20 19:38:10,181 INFO Request is completed\n",
            "2022-08-20 19:38:10,183 INFO Downloading https://download-0014-clone.copernicus-climate.eu/cache-compute-0014/cache/data7/adaptor.esgf_wps.retrieve-1661020245.4111867-23619-19-d1334ba1-4da1-4685-8bf5-5ca7c012cf63.zip to temp.zip (22.2M)\n",
            "2022-08-20 19:38:12,804 INFO Download rate 8.5M/s\n"
          ]
        },
        {
          "output_type": "stream",
          "name": "stdout",
          "text": [
            "Trying conservative regridding\n",
            "Conservative regridding failed:\n",
            "Using bilinear regridding\n",
            "Overwrite existing file: bilinear_7x22_38x71.nc \n",
            " You can set reuse_weights=True to save computing time.\n",
            "using dimensions ('lat', 'lon') from data variable pr as the horizontal dimensions for this dataset.\n"
          ]
        },
        {
          "output_type": "stream",
          "name": "stderr",
          "text": [
            "/usr/local/lib/python3.7/site-packages/xesmf/frontend.py:486: FutureWarning: ``output_sizes`` should be given in the ``dask_gufunc_kwargs`` parameter. It will be removed as direct parameter in a future version.\n",
            "  keep_attrs=keep_attrs\n",
            "2022-08-20 19:38:22,661 INFO Welcome to the CDS\n",
            "2022-08-20 19:38:22,663 INFO Sending request to https://cds.climate.copernicus.eu/api/v2/resources/projections-cmip6\n"
          ]
        },
        {
          "output_type": "stream",
          "name": "stdout",
          "text": [
            "['CAMS-CSM1-0', 'ssp5_8_5']\n"
          ]
        },
        {
          "output_type": "stream",
          "name": "stderr",
          "text": [
            "2022-08-20 19:38:22,850 INFO Request is completed\n",
            "2022-08-20 19:38:22,853 INFO Downloading https://download-0004-clone.copernicus-climate.eu/cache-compute-0004/cache/data0/adaptor.esgf_wps.retrieve-1661020518.292279-14173-19-f84deead-ff0f-4f42-9c52-cd5d02fd4f25.zip to temp.zip (22.2M)\n",
            "2022-08-20 19:38:26,751 INFO Download rate 5.7M/s\n"
          ]
        },
        {
          "output_type": "stream",
          "name": "stdout",
          "text": [
            "Trying conservative regridding\n",
            "Conservative regridding failed:\n",
            "Using bilinear regridding\n",
            "Overwrite existing file: bilinear_7x22_38x71.nc \n",
            " You can set reuse_weights=True to save computing time.\n",
            "using dimensions ('lat', 'lon') from data variable pr as the horizontal dimensions for this dataset.\n"
          ]
        },
        {
          "output_type": "stream",
          "name": "stderr",
          "text": [
            "/usr/local/lib/python3.7/site-packages/xesmf/frontend.py:486: FutureWarning: ``output_sizes`` should be given in the ``dask_gufunc_kwargs`` parameter. It will be removed as direct parameter in a future version.\n",
            "  keep_attrs=keep_attrs\n",
            "2022-08-20 19:38:36,809 INFO Welcome to the CDS\n",
            "2022-08-20 19:38:36,811 INFO Sending request to https://cds.climate.copernicus.eu/api/v2/resources/projections-cmip6\n"
          ]
        },
        {
          "output_type": "stream",
          "name": "stdout",
          "text": [
            "['CanESM5', 'ssp2_4_5']\n"
          ]
        },
        {
          "output_type": "stream",
          "name": "stderr",
          "text": [
            "2022-08-20 19:38:36,974 INFO Request is completed\n",
            "2022-08-20 19:38:36,977 INFO Downloading https://download-0017.copernicus-climate.eu/cache-compute-0017/cache/data7/adaptor.esgf_wps.retrieve-1661020680.2791274-11489-17-911e7008-2837-4ab5-b37e-a3e43c6696fe.zip to temp.zip (7M)\n",
            "2022-08-20 19:38:39,083 INFO Download rate 3.3M/s\n"
          ]
        },
        {
          "output_type": "stream",
          "name": "stdout",
          "text": [
            "Trying conservative regridding\n",
            "Conservative regridding failed:\n",
            "Using bilinear regridding\n",
            "Overwrite existing file: bilinear_2x9_38x71.nc \n",
            " You can set reuse_weights=True to save computing time.\n",
            "using dimensions ('lat', 'lon') from data variable pr as the horizontal dimensions for this dataset.\n"
          ]
        },
        {
          "output_type": "stream",
          "name": "stderr",
          "text": [
            "/usr/local/lib/python3.7/site-packages/xesmf/frontend.py:486: FutureWarning: ``output_sizes`` should be given in the ``dask_gufunc_kwargs`` parameter. It will be removed as direct parameter in a future version.\n",
            "  keep_attrs=keep_attrs\n",
            "2022-08-20 19:38:49,476 INFO Welcome to the CDS\n",
            "2022-08-20 19:38:49,478 INFO Sending request to https://cds.climate.copernicus.eu/api/v2/resources/projections-cmip6\n"
          ]
        },
        {
          "output_type": "stream",
          "name": "stdout",
          "text": [
            "['CanESM5', 'ssp5_8_5']\n"
          ]
        },
        {
          "output_type": "stream",
          "name": "stderr",
          "text": [
            "2022-08-20 19:38:49,668 INFO Request is completed\n",
            "2022-08-20 19:38:49,670 INFO Downloading https://download-0018.copernicus-climate.eu/cache-compute-0018/cache/data7/adaptor.esgf_wps.retrieve-1661020865.512043-11526-19-fe7276bd-a436-428b-af3a-35b5e123d7e4.zip to temp.zip (6.9M)\n",
            "2022-08-20 19:38:51,368 INFO Download rate 4.1M/s\n"
          ]
        },
        {
          "output_type": "stream",
          "name": "stdout",
          "text": [
            "Trying conservative regridding\n",
            "Conservative regridding failed:\n",
            "Using bilinear regridding\n",
            "Overwrite existing file: bilinear_2x9_38x71.nc \n",
            " You can set reuse_weights=True to save computing time.\n",
            "using dimensions ('lat', 'lon') from data variable pr as the horizontal dimensions for this dataset.\n"
          ]
        },
        {
          "output_type": "stream",
          "name": "stderr",
          "text": [
            "/usr/local/lib/python3.7/site-packages/xesmf/frontend.py:486: FutureWarning: ``output_sizes`` should be given in the ``dask_gufunc_kwargs`` parameter. It will be removed as direct parameter in a future version.\n",
            "  keep_attrs=keep_attrs\n",
            "2022-08-20 19:39:01,256 INFO Welcome to the CDS\n",
            "2022-08-20 19:39:01,258 INFO Sending request to https://cds.climate.copernicus.eu/api/v2/resources/projections-cmip6\n"
          ]
        },
        {
          "output_type": "stream",
          "name": "stdout",
          "text": [
            "['CESM2', 'ssp2_4_5']\n"
          ]
        },
        {
          "output_type": "stream",
          "name": "stderr",
          "text": [
            "2022-08-20 19:39:01,424 INFO Request is completed\n",
            "2022-08-20 19:39:01,426 INFO Downloading https://download-0017.copernicus-climate.eu/cache-compute-0017/cache/data8/adaptor.esgf_wps.retrieve-1661021082.1983738-12635-13-6cb200a2-0132-4159-a724-8976620dbc1b.zip to temp.zip (26.5M)\n",
            "2022-08-20 19:39:03,689 INFO Download rate 11.7M/s\n"
          ]
        },
        {
          "output_type": "stream",
          "name": "stdout",
          "text": [
            "Trying conservative regridding\n",
            "Conservative regridding failed:\n",
            "Using bilinear regridding\n",
            "Overwrite existing file: bilinear_9x19_38x71.nc \n",
            " You can set reuse_weights=True to save computing time.\n",
            "using dimensions ('lat', 'lon') from data variable pr as the horizontal dimensions for this dataset.\n"
          ]
        },
        {
          "output_type": "stream",
          "name": "stderr",
          "text": [
            "/usr/local/lib/python3.7/site-packages/xesmf/frontend.py:486: FutureWarning: ``output_sizes`` should be given in the ``dask_gufunc_kwargs`` parameter. It will be removed as direct parameter in a future version.\n",
            "  keep_attrs=keep_attrs\n",
            "2022-08-20 19:39:13,518 INFO Welcome to the CDS\n",
            "2022-08-20 19:39:13,520 INFO Sending request to https://cds.climate.copernicus.eu/api/v2/resources/projections-cmip6\n"
          ]
        },
        {
          "output_type": "stream",
          "name": "stdout",
          "text": [
            "['CESM2', 'ssp5_8_5']\n"
          ]
        },
        {
          "output_type": "stream",
          "name": "stderr",
          "text": [
            "2022-08-20 19:39:13,687 INFO Request is completed\n",
            "2022-08-20 19:39:13,689 INFO Downloading https://download-0017.copernicus-climate.eu/cache-compute-0017/cache/data5/adaptor.esgf_wps.retrieve-1661021274.0489662-12760-10-e74743c1-3756-4a83-abcc-9c26c1d2e181.zip to temp.zip (26.4M)\n",
            "2022-08-20 19:39:16,177 INFO Download rate 10.6M/s\n"
          ]
        },
        {
          "output_type": "stream",
          "name": "stdout",
          "text": [
            "Trying conservative regridding\n",
            "Conservative regridding failed:\n",
            "Using bilinear regridding\n",
            "Overwrite existing file: bilinear_9x19_38x71.nc \n",
            " You can set reuse_weights=True to save computing time.\n",
            "using dimensions ('lat', 'lon') from data variable pr as the horizontal dimensions for this dataset.\n"
          ]
        },
        {
          "output_type": "stream",
          "name": "stderr",
          "text": [
            "/usr/local/lib/python3.7/site-packages/xesmf/frontend.py:486: FutureWarning: ``output_sizes`` should be given in the ``dask_gufunc_kwargs`` parameter. It will be removed as direct parameter in a future version.\n",
            "  keep_attrs=keep_attrs\n",
            "2022-08-20 19:39:26,477 INFO Welcome to the CDS\n",
            "2022-08-20 19:39:26,479 INFO Sending request to https://cds.climate.copernicus.eu/api/v2/resources/projections-cmip6\n"
          ]
        },
        {
          "output_type": "stream",
          "name": "stdout",
          "text": [
            "['CMCC-CM2-SR5', 'ssp2_4_5']\n"
          ]
        },
        {
          "output_type": "stream",
          "name": "stderr",
          "text": [
            "2022-08-20 19:39:26,683 INFO Request is completed\n",
            "2022-08-20 19:39:26,685 INFO Downloading https://download-0014-clone.copernicus-climate.eu/cache-compute-0014/cache/data3/adaptor.esgf_wps.retrieve-1661021448.1352453-27433-5-90c9be4d-9904-49af-aecd-c4e9f7a363f5.zip to temp.zip (26.8M)\n",
            "2022-08-20 19:39:29,641 INFO Download rate 9.1M/s\n"
          ]
        },
        {
          "output_type": "stream",
          "name": "stdout",
          "text": [
            "Trying conservative regridding\n",
            "Conservative regridding failed:\n",
            "Using bilinear regridding\n",
            "Overwrite existing file: bilinear_9x19_38x71.nc \n",
            " You can set reuse_weights=True to save computing time.\n",
            "using dimensions ('lat', 'lon') from data variable pr as the horizontal dimensions for this dataset.\n"
          ]
        },
        {
          "output_type": "stream",
          "name": "stderr",
          "text": [
            "/usr/local/lib/python3.7/site-packages/xesmf/frontend.py:486: FutureWarning: ``output_sizes`` should be given in the ``dask_gufunc_kwargs`` parameter. It will be removed as direct parameter in a future version.\n",
            "  keep_attrs=keep_attrs\n",
            "2022-08-20 19:39:39,406 INFO Welcome to the CDS\n",
            "2022-08-20 19:39:39,408 INFO Sending request to https://cds.climate.copernicus.eu/api/v2/resources/projections-cmip6\n"
          ]
        },
        {
          "output_type": "stream",
          "name": "stdout",
          "text": [
            "['CMCC-CM2-SR5', 'ssp5_8_5']\n"
          ]
        },
        {
          "output_type": "stream",
          "name": "stderr",
          "text": [
            "2022-08-20 19:39:39,614 INFO Request is completed\n",
            "2022-08-20 19:39:39,616 INFO Downloading https://download-0011-clone.copernicus-climate.eu/cache-compute-0011/cache/data4/adaptor.esgf_wps.retrieve-1661021615.6901703-7994-17-ebaffd0b-91b5-46e9-a210-51142c8d1536.zip to temp.zip (26.7M)\n",
            "2022-08-20 19:39:42,617 INFO Download rate 8.9M/s\n"
          ]
        },
        {
          "output_type": "stream",
          "name": "stdout",
          "text": [
            "Trying conservative regridding\n",
            "Conservative regridding failed:\n",
            "Using bilinear regridding\n",
            "Overwrite existing file: bilinear_9x19_38x71.nc \n",
            " You can set reuse_weights=True to save computing time.\n",
            "using dimensions ('lat', 'lon') from data variable pr as the horizontal dimensions for this dataset.\n"
          ]
        },
        {
          "output_type": "stream",
          "name": "stderr",
          "text": [
            "/usr/local/lib/python3.7/site-packages/xesmf/frontend.py:486: FutureWarning: ``output_sizes`` should be given in the ``dask_gufunc_kwargs`` parameter. It will be removed as direct parameter in a future version.\n",
            "  keep_attrs=keep_attrs\n",
            "2022-08-20 19:39:53,655 INFO Welcome to the CDS\n",
            "2022-08-20 19:39:53,656 INFO Sending request to https://cds.climate.copernicus.eu/api/v2/resources/projections-cmip6\n"
          ]
        },
        {
          "output_type": "stream",
          "name": "stdout",
          "text": [
            "['CMCC-ESM2', 'ssp2_4_5']\n"
          ]
        },
        {
          "output_type": "stream",
          "name": "stderr",
          "text": [
            "2022-08-20 19:39:53,830 INFO Request is completed\n",
            "2022-08-20 19:39:53,833 INFO Downloading https://download-0011-clone.copernicus-climate.eu/cache-compute-0011/cache/data4/adaptor.esgf_wps.retrieve-1661021808.464804-8331-8-49cd80d3-4df2-48d7-abce-5bd4b9d66c5d.zip to temp.zip (26.9M)\n",
            "2022-08-20 19:39:56,812 INFO Download rate 9.1M/s\n"
          ]
        },
        {
          "output_type": "stream",
          "name": "stdout",
          "text": [
            "Trying conservative regridding\n",
            "Conservative regridding failed:\n",
            "Using bilinear regridding\n",
            "Overwrite existing file: bilinear_9x19_38x71.nc \n",
            " You can set reuse_weights=True to save computing time.\n",
            "using dimensions ('lat', 'lon') from data variable pr as the horizontal dimensions for this dataset.\n"
          ]
        },
        {
          "output_type": "stream",
          "name": "stderr",
          "text": [
            "/usr/local/lib/python3.7/site-packages/xesmf/frontend.py:486: FutureWarning: ``output_sizes`` should be given in the ``dask_gufunc_kwargs`` parameter. It will be removed as direct parameter in a future version.\n",
            "  keep_attrs=keep_attrs\n",
            "2022-08-20 19:40:07,273 INFO Welcome to the CDS\n",
            "2022-08-20 19:40:07,276 INFO Sending request to https://cds.climate.copernicus.eu/api/v2/resources/projections-cmip6\n"
          ]
        },
        {
          "output_type": "stream",
          "name": "stdout",
          "text": [
            "['CMCC-ESM2', 'ssp5_8_5']\n"
          ]
        },
        {
          "output_type": "stream",
          "name": "stderr",
          "text": [
            "2022-08-20 19:40:07,435 INFO Request is completed\n",
            "2022-08-20 19:40:07,437 INFO Downloading https://download-0015-clone.copernicus-climate.eu/cache-compute-0015/cache/data8/adaptor.esgf_wps.retrieve-1661021990.8634734-28478-14-a6df53ae-79fa-4a5c-8328-2bcf9e2a278b.zip to temp.zip (26.7M)\n",
            "2022-08-20 19:40:10,289 INFO Download rate 9.4M/s\n"
          ]
        },
        {
          "output_type": "stream",
          "name": "stdout",
          "text": [
            "Trying conservative regridding\n",
            "Conservative regridding failed:\n",
            "Using bilinear regridding\n",
            "Overwrite existing file: bilinear_9x19_38x71.nc \n",
            " You can set reuse_weights=True to save computing time.\n",
            "using dimensions ('lat', 'lon') from data variable pr as the horizontal dimensions for this dataset.\n"
          ]
        },
        {
          "output_type": "stream",
          "name": "stderr",
          "text": [
            "/usr/local/lib/python3.7/site-packages/xesmf/frontend.py:486: FutureWarning: ``output_sizes`` should be given in the ``dask_gufunc_kwargs`` parameter. It will be removed as direct parameter in a future version.\n",
            "  keep_attrs=keep_attrs\n",
            "2022-08-20 19:40:20,042 INFO Welcome to the CDS\n",
            "2022-08-20 19:40:20,045 INFO Sending request to https://cds.climate.copernicus.eu/api/v2/resources/projections-cmip6\n"
          ]
        },
        {
          "output_type": "stream",
          "name": "stdout",
          "text": [
            "['CNRM-CM6-1', 'ssp2_4_5']\n"
          ]
        },
        {
          "output_type": "stream",
          "name": "stderr",
          "text": [
            "2022-08-20 19:40:20,272 INFO Request is completed\n",
            "2022-08-20 19:40:20,275 INFO Downloading https://download-0012-clone.copernicus-climate.eu/cache-compute-0012/cache/data7/adaptor.esgf_wps.retrieve-1661022487.5761397-25399-16-e27ea503-02b4-4b38-b979-b6bf774d9541.zip to temp.zip (16.1M)\n",
            "2022-08-20 19:40:22,655 INFO Download rate 6.8M/s\n",
            "/usr/local/lib/python3.7/site-packages/xesmf/frontend.py:486: FutureWarning: ``output_sizes`` should be given in the ``dask_gufunc_kwargs`` parameter. It will be removed as direct parameter in a future version.\n",
            "  keep_attrs=keep_attrs\n",
            "2022-08-20 19:40:23,315 INFO Welcome to the CDS\n",
            "2022-08-20 19:40:23,319 INFO Sending request to https://cds.climate.copernicus.eu/api/v2/resources/projections-cmip6\n"
          ]
        },
        {
          "output_type": "stream",
          "name": "stdout",
          "text": [
            "Trying conservative regridding\n",
            "Conservative regridding failed:\n",
            "Using bilinear regridding\n",
            "Overwrite existing file: bilinear_5x18_38x71.nc \n",
            " You can set reuse_weights=True to save computing time.\n",
            "using dimensions ('time', 'axis_nbounds') from data variable time_bounds as the horizontal dimensions for this dataset.\n",
            "['CNRM-CM6-1', 'ssp5_8_5']\n"
          ]
        },
        {
          "output_type": "stream",
          "name": "stderr",
          "text": [
            "2022-08-20 19:40:23,451 INFO Request is queued\n",
            "2022-08-20 19:40:24,578 INFO Request is running\n",
            "2022-08-20 19:48:44,143 INFO Request is completed\n",
            "2022-08-20 19:48:44,145 INFO Downloading https://download-0015-clone.copernicus-climate.eu/cache-compute-0015/cache/data0/adaptor.esgf_wps.retrieve-1661024864.1441126-4290-16-8c46cae7-97f2-48c8-aae1-74b1e1b412c7.zip to temp.zip (16.1M)\n",
            "2022-08-20 19:48:46,621 INFO Download rate 6.5M/s\n",
            "/usr/local/lib/python3.7/site-packages/xesmf/frontend.py:486: FutureWarning: ``output_sizes`` should be given in the ``dask_gufunc_kwargs`` parameter. It will be removed as direct parameter in a future version.\n",
            "  keep_attrs=keep_attrs\n",
            "2022-08-20 19:48:47,200 INFO Welcome to the CDS\n",
            "2022-08-20 19:48:47,202 INFO Sending request to https://cds.climate.copernicus.eu/api/v2/resources/projections-cmip6\n"
          ]
        },
        {
          "output_type": "stream",
          "name": "stdout",
          "text": [
            "Trying conservative regridding\n",
            "Conservative regridding failed:\n",
            "Using bilinear regridding\n",
            "Overwrite existing file: bilinear_5x18_38x71.nc \n",
            " You can set reuse_weights=True to save computing time.\n",
            "using dimensions ('time', 'axis_nbounds') from data variable time_bounds as the horizontal dimensions for this dataset.\n",
            "['CNRM-ESM2-1', 'ssp2_4_5']\n"
          ]
        },
        {
          "output_type": "stream",
          "name": "stderr",
          "text": [
            "2022-08-20 19:48:47,332 INFO Request is queued\n",
            "2022-08-20 19:48:48,452 INFO Request is running\n",
            "2022-08-20 19:57:07,889 INFO Request is completed\n",
            "2022-08-20 19:57:07,894 INFO Downloading https://download-0010-clone.copernicus-climate.eu/cache-compute-0010/cache/data5/adaptor.esgf_wps.retrieve-1661025373.9332988-27115-12-90c6ac99-1bc6-4aac-b99d-72df84042534.zip to temp.zip (16.1M)\n",
            "2022-08-20 19:57:10,346 INFO Download rate 6.6M/s\n",
            "/usr/local/lib/python3.7/site-packages/xesmf/frontend.py:486: FutureWarning: ``output_sizes`` should be given in the ``dask_gufunc_kwargs`` parameter. It will be removed as direct parameter in a future version.\n",
            "  keep_attrs=keep_attrs\n",
            "2022-08-20 19:57:10,915 INFO Welcome to the CDS\n",
            "2022-08-20 19:57:10,917 INFO Sending request to https://cds.climate.copernicus.eu/api/v2/resources/projections-cmip6\n"
          ]
        },
        {
          "output_type": "stream",
          "name": "stdout",
          "text": [
            "Trying conservative regridding\n",
            "Conservative regridding failed:\n",
            "Using bilinear regridding\n",
            "Overwrite existing file: bilinear_5x18_38x71.nc \n",
            " You can set reuse_weights=True to save computing time.\n",
            "using dimensions ('time', 'axis_nbounds') from data variable time_bounds as the horizontal dimensions for this dataset.\n",
            "['CNRM-ESM2-1', 'ssp5_8_5']\n"
          ]
        },
        {
          "output_type": "stream",
          "name": "stderr",
          "text": [
            "2022-08-20 19:57:11,046 INFO Request is queued\n",
            "2022-08-20 19:57:12,165 INFO Request is running\n",
            "2022-08-20 20:05:31,694 INFO Request is completed\n",
            "2022-08-20 20:05:31,696 INFO Downloading https://download-0011-clone.copernicus-climate.eu/cache-compute-0011/cache/data0/adaptor.esgf_wps.retrieve-1661025859.3003006-9283-6-e0161cfd-aeb5-464b-ba85-66bc03ae9a32.zip to temp.zip (16.1M)\n",
            "2022-08-20 20:05:34,274 INFO Download rate 6.3M/s\n",
            "/usr/local/lib/python3.7/site-packages/xesmf/frontend.py:486: FutureWarning: ``output_sizes`` should be given in the ``dask_gufunc_kwargs`` parameter. It will be removed as direct parameter in a future version.\n",
            "  keep_attrs=keep_attrs\n",
            "2022-08-20 20:05:34,872 INFO Welcome to the CDS\n",
            "2022-08-20 20:05:34,874 INFO Sending request to https://cds.climate.copernicus.eu/api/v2/resources/projections-cmip6\n"
          ]
        },
        {
          "output_type": "stream",
          "name": "stdout",
          "text": [
            "Trying conservative regridding\n",
            "Conservative regridding failed:\n",
            "Using bilinear regridding\n",
            "Overwrite existing file: bilinear_5x18_38x71.nc \n",
            " You can set reuse_weights=True to save computing time.\n",
            "using dimensions ('time', 'axis_nbounds') from data variable time_bounds as the horizontal dimensions for this dataset.\n",
            "['EC-Earth3-CC', 'ssp2_4_5']\n"
          ]
        },
        {
          "output_type": "stream",
          "name": "stderr",
          "text": [
            "2022-08-20 20:05:35,019 INFO Request is queued\n",
            "2022-08-20 20:05:36,150 INFO Request is running\n",
            "2022-08-20 20:11:55,267 INFO Request is completed\n",
            "2022-08-20 20:11:55,269 INFO Downloading https://download-0017.copernicus-climate.eu/cache-compute-0017/cache/data8/adaptor.esgf_wps.retrieve-1661026265.2915897-21416-20-cb8330ab-0c3c-46c0-bd39-b1d607ab1be9.zip to temp.zip (23.6M)\n",
            "2022-08-20 20:11:58,108 INFO Download rate 8.3M/s\n"
          ]
        },
        {
          "output_type": "stream",
          "name": "stdout",
          "text": [
            "Trying conservative regridding\n",
            "Conservative regridding failed:\n",
            "Using bilinear regridding\n",
            "Create weight file: bilinear_11x35_38x71.nc\n",
            "using dimensions ('lat', 'lon') from data variable pr as the horizontal dimensions for this dataset.\n"
          ]
        },
        {
          "output_type": "stream",
          "name": "stderr",
          "text": [
            "/usr/local/lib/python3.7/site-packages/xesmf/frontend.py:486: FutureWarning: ``output_sizes`` should be given in the ``dask_gufunc_kwargs`` parameter. It will be removed as direct parameter in a future version.\n",
            "  keep_attrs=keep_attrs\n",
            "2022-08-20 20:12:07,950 INFO Welcome to the CDS\n",
            "2022-08-20 20:12:07,952 INFO Sending request to https://cds.climate.copernicus.eu/api/v2/resources/projections-cmip6\n"
          ]
        },
        {
          "output_type": "stream",
          "name": "stdout",
          "text": [
            "['EC-Earth3-CC', 'ssp5_8_5']\n"
          ]
        },
        {
          "output_type": "stream",
          "name": "stderr",
          "text": [
            "2022-08-20 20:12:08,084 INFO Request is queued\n",
            "2022-08-20 20:12:09,210 INFO Request is running\n",
            "2022-08-20 20:18:28,312 INFO Request is completed\n",
            "2022-08-20 20:18:28,316 INFO Downloading https://download-0010-clone.copernicus-climate.eu/cache-compute-0010/cache/data1/adaptor.esgf_wps.retrieve-1661026658.0337708-13695-19-073a59a8-0115-4802-9f95-dce8ef6cc61f.zip to temp.zip (24.1M)\n",
            "2022-08-20 20:18:31,134 INFO Download rate 8.6M/s\n"
          ]
        },
        {
          "output_type": "stream",
          "name": "stdout",
          "text": [
            "Trying conservative regridding\n",
            "Conservative regridding failed:\n",
            "Using bilinear regridding\n",
            "Overwrite existing file: bilinear_11x35_38x71.nc \n",
            " You can set reuse_weights=True to save computing time.\n",
            "using dimensions ('lat', 'lon') from data variable pr as the horizontal dimensions for this dataset.\n"
          ]
        },
        {
          "output_type": "stream",
          "name": "stderr",
          "text": [
            "/usr/local/lib/python3.7/site-packages/xesmf/frontend.py:486: FutureWarning: ``output_sizes`` should be given in the ``dask_gufunc_kwargs`` parameter. It will be removed as direct parameter in a future version.\n",
            "  keep_attrs=keep_attrs\n",
            "2022-08-20 20:18:41,820 INFO Welcome to the CDS\n",
            "2022-08-20 20:18:41,823 INFO Sending request to https://cds.climate.copernicus.eu/api/v2/resources/projections-cmip6\n"
          ]
        },
        {
          "output_type": "stream",
          "name": "stdout",
          "text": [
            "['EC-Earth3-Veg-LR', 'ssp2_4_5']\n"
          ]
        },
        {
          "output_type": "stream",
          "name": "stderr",
          "text": [
            "2022-08-20 20:18:41,962 INFO Request is queued\n",
            "2022-08-20 20:18:43,093 INFO Request is running\n",
            "2022-08-20 20:21:34,449 INFO Request is completed\n",
            "2022-08-20 20:21:34,452 INFO Downloading https://download-0003-clone.copernicus-climate.eu/cache-compute-0003/cache/data2/adaptor.esgf_wps.retrieve-1661026879.8920035-30026-20-5dff0693-aaa6-4e03-8c84-d047e8fcfadb.zip to temp.zip (13.6M)\n",
            "2022-08-20 20:21:36,381 INFO Download rate 7M/s\n"
          ]
        },
        {
          "output_type": "stream",
          "name": "stdout",
          "text": [
            "Trying conservative regridding\n",
            "Conservative regridding failed:\n",
            "Using bilinear regridding\n",
            "Overwrite existing file: bilinear_7x22_38x71.nc \n",
            " You can set reuse_weights=True to save computing time.\n",
            "using dimensions ('lat', 'lon') from data variable pr as the horizontal dimensions for this dataset.\n"
          ]
        },
        {
          "output_type": "stream",
          "name": "stderr",
          "text": [
            "/usr/local/lib/python3.7/site-packages/xesmf/frontend.py:486: FutureWarning: ``output_sizes`` should be given in the ``dask_gufunc_kwargs`` parameter. It will be removed as direct parameter in a future version.\n",
            "  keep_attrs=keep_attrs\n",
            "2022-08-20 20:21:46,015 INFO Welcome to the CDS\n",
            "2022-08-20 20:21:46,017 INFO Sending request to https://cds.climate.copernicus.eu/api/v2/resources/projections-cmip6\n"
          ]
        },
        {
          "output_type": "stream",
          "name": "stdout",
          "text": [
            "['EC-Earth3-Veg-LR', 'ssp5_8_5']\n"
          ]
        },
        {
          "output_type": "stream",
          "name": "stderr",
          "text": [
            "2022-08-20 20:21:46,170 INFO Request is queued\n",
            "2022-08-20 20:21:47,303 INFO Request is running\n",
            "2022-08-20 20:24:38,692 INFO Request is completed\n",
            "2022-08-20 20:24:38,694 INFO Downloading https://download-0010-clone.copernicus-climate.eu/cache-compute-0010/cache/data4/adaptor.esgf_wps.retrieve-1661027067.0132182-18857-14-83cb32f5-b321-4a10-9dc7-ee3fe0e23171.zip to temp.zip (13.8M)\n",
            "2022-08-20 20:24:40,723 INFO Download rate 6.8M/s\n"
          ]
        },
        {
          "output_type": "stream",
          "name": "stdout",
          "text": [
            "Trying conservative regridding\n",
            "Conservative regridding failed:\n",
            "Using bilinear regridding\n",
            "Overwrite existing file: bilinear_7x22_38x71.nc \n",
            " You can set reuse_weights=True to save computing time.\n",
            "using dimensions ('lat', 'lon') from data variable pr as the horizontal dimensions for this dataset.\n"
          ]
        },
        {
          "output_type": "stream",
          "name": "stderr",
          "text": [
            "/usr/local/lib/python3.7/site-packages/xesmf/frontend.py:486: FutureWarning: ``output_sizes`` should be given in the ``dask_gufunc_kwargs`` parameter. It will be removed as direct parameter in a future version.\n",
            "  keep_attrs=keep_attrs\n",
            "2022-08-20 20:24:50,304 INFO Welcome to the CDS\n",
            "2022-08-20 20:24:50,307 INFO Sending request to https://cds.climate.copernicus.eu/api/v2/resources/projections-cmip6\n"
          ]
        },
        {
          "output_type": "stream",
          "name": "stdout",
          "text": [
            "['FGOALS-g3', 'ssp2_4_5']\n"
          ]
        },
        {
          "output_type": "stream",
          "name": "stderr",
          "text": [
            "2022-08-20 20:24:50,448 INFO Request is queued\n",
            "2022-08-20 20:24:51,581 INFO Request is running\n",
            "2022-08-20 20:27:42,982 INFO Request is completed\n",
            "2022-08-20 20:27:42,989 INFO Downloading https://download-0002-clone.copernicus-climate.eu/cache-compute-0002/cache/data6/adaptor.esgf_wps.retrieve-1661027226.8736188-9657-18-03e25a09-2416-428c-9436-4003291f29c6.zip to temp.zip (12.4M)\n",
            "2022-08-20 20:27:45,119 INFO Download rate 5.8M/s\n"
          ]
        },
        {
          "output_type": "stream",
          "name": "stdout",
          "text": [
            "Trying conservative regridding\n",
            "Conservative regridding failed:\n",
            "Using bilinear regridding\n",
            "Create weight file: bilinear_3x12_38x71.nc\n",
            "using dimensions ('lat', 'lon') from data variable pr as the horizontal dimensions for this dataset.\n"
          ]
        },
        {
          "output_type": "stream",
          "name": "stderr",
          "text": [
            "/usr/local/lib/python3.7/site-packages/xesmf/frontend.py:486: FutureWarning: ``output_sizes`` should be given in the ``dask_gufunc_kwargs`` parameter. It will be removed as direct parameter in a future version.\n",
            "  keep_attrs=keep_attrs\n",
            "2022-08-20 20:27:55,489 INFO Welcome to the CDS\n",
            "2022-08-20 20:27:55,490 INFO Sending request to https://cds.climate.copernicus.eu/api/v2/resources/projections-cmip6\n"
          ]
        },
        {
          "output_type": "stream",
          "name": "stdout",
          "text": [
            "['FGOALS-g3', 'ssp5_8_5']\n"
          ]
        },
        {
          "output_type": "stream",
          "name": "stderr",
          "text": [
            "2022-08-20 20:27:55,654 INFO Request is queued\n",
            "2022-08-20 20:27:56,786 INFO Request is running\n",
            "2022-08-20 20:30:48,227 INFO Request is completed\n",
            "2022-08-20 20:30:48,230 INFO Downloading https://download-0015-clone.copernicus-climate.eu/cache-compute-0015/cache/data7/adaptor.esgf_wps.retrieve-1661027412.002971-11331-18-2c78c120-99ac-4b7f-8009-ebed3bc043ed.zip to temp.zip (12.4M)\n",
            "2022-08-20 20:30:50,458 INFO Download rate 5.6M/s\n"
          ]
        },
        {
          "output_type": "stream",
          "name": "stdout",
          "text": [
            "Trying conservative regridding\n",
            "Conservative regridding failed:\n",
            "Using bilinear regridding\n",
            "Overwrite existing file: bilinear_3x12_38x71.nc \n",
            " You can set reuse_weights=True to save computing time.\n",
            "using dimensions ('lat', 'lon') from data variable pr as the horizontal dimensions for this dataset.\n"
          ]
        },
        {
          "output_type": "stream",
          "name": "stderr",
          "text": [
            "/usr/local/lib/python3.7/site-packages/xesmf/frontend.py:486: FutureWarning: ``output_sizes`` should be given in the ``dask_gufunc_kwargs`` parameter. It will be removed as direct parameter in a future version.\n",
            "  keep_attrs=keep_attrs\n",
            "2022-08-20 20:31:00,143 INFO Welcome to the CDS\n",
            "2022-08-20 20:31:00,145 INFO Sending request to https://cds.climate.copernicus.eu/api/v2/resources/projections-cmip6\n"
          ]
        },
        {
          "output_type": "stream",
          "name": "stdout",
          "text": [
            "['GFDL-ESM4', 'ssp2_4_5']\n"
          ]
        },
        {
          "output_type": "stream",
          "name": "stderr",
          "text": [
            "2022-08-20 20:31:00,310 INFO Request is queued\n",
            "2022-08-20 20:31:01,440 INFO Request is running\n",
            "2022-08-20 20:33:52,902 INFO Request is completed\n",
            "2022-08-20 20:33:52,904 INFO Downloading https://download-0018.copernicus-climate.eu/cache-compute-0018/cache/data7/adaptor.esgf_wps.retrieve-1661027611.8441677-29875-20-119eb775-82fc-4e57-96b5-cf4a05aaa408.zip to temp.zip (23.7M)\n",
            "2022-08-20 20:33:55,964 INFO Download rate 7.7M/s\n"
          ]
        },
        {
          "output_type": "stream",
          "name": "stdout",
          "text": [
            "Trying conservative regridding\n",
            "Conservative regridding failed:\n",
            "Using bilinear regridding\n",
            "Create weight file: bilinear_8x20_38x71.nc\n",
            "using dimensions ('lat', 'lon') from data variable pr as the horizontal dimensions for this dataset.\n"
          ]
        },
        {
          "output_type": "stream",
          "name": "stderr",
          "text": [
            "/usr/local/lib/python3.7/site-packages/xesmf/frontend.py:486: FutureWarning: ``output_sizes`` should be given in the ``dask_gufunc_kwargs`` parameter. It will be removed as direct parameter in a future version.\n",
            "  keep_attrs=keep_attrs\n",
            "2022-08-20 20:34:05,763 INFO Welcome to the CDS\n",
            "2022-08-20 20:34:05,765 INFO Sending request to https://cds.climate.copernicus.eu/api/v2/resources/projections-cmip6\n"
          ]
        },
        {
          "output_type": "stream",
          "name": "stdout",
          "text": [
            "['GFDL-ESM4', 'ssp5_8_5']\n"
          ]
        },
        {
          "output_type": "stream",
          "name": "stderr",
          "text": [
            "2022-08-20 20:34:05,967 INFO Request is queued\n",
            "2022-08-20 20:34:07,098 INFO Request is running\n",
            "2022-08-20 20:38:25,679 INFO Request is completed\n",
            "2022-08-20 20:38:25,681 INFO Downloading https://download-0018.copernicus-climate.eu/cache-compute-0018/cache/data7/adaptor.esgf_wps.retrieve-1661027821.858405-30614-20-cec594ef-be8b-4fea-8694-a989f6633dff.zip to temp.zip (23.6M)\n",
            "2022-08-20 20:38:28,374 INFO Download rate 8.8M/s\n"
          ]
        },
        {
          "output_type": "stream",
          "name": "stdout",
          "text": [
            "Trying conservative regridding\n",
            "Conservative regridding failed:\n",
            "Using bilinear regridding\n",
            "Overwrite existing file: bilinear_8x20_38x71.nc \n",
            " You can set reuse_weights=True to save computing time.\n",
            "using dimensions ('lat', 'lon') from data variable pr as the horizontal dimensions for this dataset.\n"
          ]
        },
        {
          "output_type": "stream",
          "name": "stderr",
          "text": [
            "/usr/local/lib/python3.7/site-packages/xesmf/frontend.py:486: FutureWarning: ``output_sizes`` should be given in the ``dask_gufunc_kwargs`` parameter. It will be removed as direct parameter in a future version.\n",
            "  keep_attrs=keep_attrs\n",
            "2022-08-20 20:38:38,303 INFO Welcome to the CDS\n",
            "2022-08-20 20:38:38,305 INFO Sending request to https://cds.climate.copernicus.eu/api/v2/resources/projections-cmip6\n"
          ]
        },
        {
          "output_type": "stream",
          "name": "stdout",
          "text": [
            "['HadGEM3-GC31-LL', 'ssp2_4_5']\n"
          ]
        },
        {
          "output_type": "stream",
          "name": "stderr",
          "text": [
            "2022-08-20 20:38:38,474 INFO Request is queued\n",
            "2022-08-20 20:38:39,604 INFO Request is running\n",
            "2022-08-20 20:40:33,175 INFO Request is completed\n",
            "2022-08-20 20:40:33,177 INFO Downloading https://download-0011-clone.copernicus-climate.eu/cache-compute-0011/cache/data4/adaptor.esgf_wps.retrieve-1661028017.8131216-26851-17-e2e52336-1fa1-4ca3-aee0-d5cab4ea92c0.zip to temp.zip (12.3M)\n",
            "2022-08-20 20:40:35,307 INFO Download rate 5.8M/s\n"
          ]
        },
        {
          "output_type": "stream",
          "name": "stdout",
          "text": [
            "Trying conservative regridding\n",
            "Conservative regridding failed:\n",
            "Using bilinear regridding\n",
            "Overwrite existing file: bilinear_6x13_38x71.nc \n",
            " You can set reuse_weights=True to save computing time.\n",
            "using dimensions ('lat', 'lon') from data variable pr as the horizontal dimensions for this dataset.\n"
          ]
        },
        {
          "output_type": "stream",
          "name": "stderr",
          "text": [
            "/usr/local/lib/python3.7/site-packages/xesmf/frontend.py:486: FutureWarning: ``output_sizes`` should be given in the ``dask_gufunc_kwargs`` parameter. It will be removed as direct parameter in a future version.\n",
            "  keep_attrs=keep_attrs\n",
            "2022-08-20 20:40:44,660 INFO Welcome to the CDS\n",
            "2022-08-20 20:40:44,662 INFO Sending request to https://cds.climate.copernicus.eu/api/v2/resources/projections-cmip6\n"
          ]
        },
        {
          "output_type": "stream",
          "name": "stdout",
          "text": [
            "['HadGEM3-GC31-LL', 'ssp5_8_5']\n"
          ]
        },
        {
          "output_type": "stream",
          "name": "stderr",
          "text": [
            "2022-08-20 20:40:44,802 INFO Request is queued\n",
            "2022-08-20 20:40:45,933 INFO Request is running\n",
            "2022-08-20 20:42:39,501 INFO Request is completed\n",
            "2022-08-20 20:42:39,503 INFO Downloading https://download-0006-clone.copernicus-climate.eu/cache-compute-0006/cache/data4/adaptor.esgf_wps.retrieve-1661028144.233623-30429-20-f53b7ffc-d4e6-42d2-b16e-5e3faee93e6c.zip to temp.zip (12.3M)\n",
            "2022-08-20 20:42:41,612 INFO Download rate 5.9M/s\n"
          ]
        },
        {
          "output_type": "stream",
          "name": "stdout",
          "text": [
            "Trying conservative regridding\n",
            "Conservative regridding failed:\n",
            "Using bilinear regridding\n",
            "Overwrite existing file: bilinear_6x13_38x71.nc \n",
            " You can set reuse_weights=True to save computing time.\n",
            "using dimensions ('lat', 'lon') from data variable pr as the horizontal dimensions for this dataset.\n"
          ]
        },
        {
          "output_type": "stream",
          "name": "stderr",
          "text": [
            "/usr/local/lib/python3.7/site-packages/xesmf/frontend.py:486: FutureWarning: ``output_sizes`` should be given in the ``dask_gufunc_kwargs`` parameter. It will be removed as direct parameter in a future version.\n",
            "  keep_attrs=keep_attrs\n",
            "2022-08-20 20:42:52,062 INFO Welcome to the CDS\n",
            "2022-08-20 20:42:52,064 INFO Sending request to https://cds.climate.copernicus.eu/api/v2/resources/projections-cmip6\n"
          ]
        },
        {
          "output_type": "stream",
          "name": "stdout",
          "text": [
            "['IITM-ESM', 'ssp2_4_5']\n"
          ]
        },
        {
          "output_type": "stream",
          "name": "stderr",
          "text": [
            "2022-08-20 20:42:52,207 INFO Request is queued\n",
            "2022-08-20 20:42:53,340 INFO Request is running\n",
            "2022-08-20 20:44:08,328 INFO Request is completed\n",
            "2022-08-20 20:44:08,331 INFO Downloading https://download-0015-clone.copernicus-climate.eu/cache-compute-0015/cache/data5/adaptor.esgf_wps.retrieve-1661028241.7761836-14745-20-b5afd845-fc87-4a1f-953b-b8f0348061fa.zip to temp.zip (7.4M)\n",
            "2022-08-20 20:44:10,054 INFO Download rate 4.3M/s\n"
          ]
        },
        {
          "output_type": "stream",
          "name": "stdout",
          "text": [
            "Trying conservative regridding\n",
            "Conservative regridding failed:\n",
            "Using bilinear regridding\n",
            "Create weight file: bilinear_4x13_38x71.nc\n",
            "using dimensions ('lat', 'lon') from data variable pr as the horizontal dimensions for this dataset.\n"
          ]
        },
        {
          "output_type": "stream",
          "name": "stderr",
          "text": [
            "/usr/local/lib/python3.7/site-packages/xesmf/frontend.py:486: FutureWarning: ``output_sizes`` should be given in the ``dask_gufunc_kwargs`` parameter. It will be removed as direct parameter in a future version.\n",
            "  keep_attrs=keep_attrs\n",
            "2022-08-20 20:44:19,393 INFO Welcome to the CDS\n",
            "2022-08-20 20:44:19,395 INFO Sending request to https://cds.climate.copernicus.eu/api/v2/resources/projections-cmip6\n"
          ]
        },
        {
          "output_type": "stream",
          "name": "stdout",
          "text": [
            "['IITM-ESM', 'ssp5_8_5']\n"
          ]
        },
        {
          "output_type": "stream",
          "name": "stderr",
          "text": [
            "2022-08-20 20:44:19,538 INFO Request is queued\n",
            "2022-08-20 20:44:20,668 INFO Request is running\n",
            "2022-08-20 20:46:14,233 INFO Request is completed\n",
            "2022-08-20 20:46:14,235 INFO Downloading https://download-0018.copernicus-climate.eu/cache-compute-0018/cache/data4/adaptor.esgf_wps.retrieve-1661028337.40837-2977-18-09acc763-d1e3-4ca5-8900-13b2fcda78a4.zip to temp.zip (7.4M)\n",
            "2022-08-20 20:46:15,979 INFO Download rate 4.3M/s\n"
          ]
        },
        {
          "output_type": "stream",
          "name": "stdout",
          "text": [
            "Trying conservative regridding\n",
            "Conservative regridding failed:\n",
            "Using bilinear regridding\n",
            "Overwrite existing file: bilinear_4x13_38x71.nc \n",
            " You can set reuse_weights=True to save computing time.\n",
            "using dimensions ('lat', 'lon') from data variable pr as the horizontal dimensions for this dataset.\n"
          ]
        },
        {
          "output_type": "stream",
          "name": "stderr",
          "text": [
            "/usr/local/lib/python3.7/site-packages/xesmf/frontend.py:486: FutureWarning: ``output_sizes`` should be given in the ``dask_gufunc_kwargs`` parameter. It will be removed as direct parameter in a future version.\n",
            "  keep_attrs=keep_attrs\n",
            "2022-08-20 20:46:25,321 INFO Welcome to the CDS\n",
            "2022-08-20 20:46:25,326 INFO Sending request to https://cds.climate.copernicus.eu/api/v2/resources/projections-cmip6\n"
          ]
        },
        {
          "output_type": "stream",
          "name": "stdout",
          "text": [
            "['INM-CM4-8', 'ssp2_4_5']\n"
          ]
        },
        {
          "output_type": "stream",
          "name": "stderr",
          "text": [
            "2022-08-20 20:46:25,464 INFO Request is queued\n",
            "2022-08-20 20:46:26,598 INFO Request is running\n",
            "2022-08-20 20:49:18,043 INFO Request is completed\n",
            "2022-08-20 20:49:18,046 INFO Downloading https://download-0006-clone.copernicus-climate.eu/cache-compute-0006/cache/data3/adaptor.esgf_wps.retrieve-1661028503.2893882-3582-11-774b0982-1e01-4738-9477-fb572eb516d0.zip to temp.zip (12.6M)\n",
            "2022-08-20 20:49:20,306 INFO Download rate 5.6M/s\n"
          ]
        },
        {
          "output_type": "stream",
          "name": "stdout",
          "text": [
            "Trying conservative regridding\n",
            "Conservative regridding failed:\n",
            "Using bilinear regridding\n",
            "Create weight file: bilinear_5x12_38x71.nc\n",
            "using dimensions ('lat', 'lon') from data variable pr as the horizontal dimensions for this dataset.\n"
          ]
        },
        {
          "output_type": "stream",
          "name": "stderr",
          "text": [
            "/usr/local/lib/python3.7/site-packages/xesmf/frontend.py:486: FutureWarning: ``output_sizes`` should be given in the ``dask_gufunc_kwargs`` parameter. It will be removed as direct parameter in a future version.\n",
            "  keep_attrs=keep_attrs\n",
            "2022-08-20 20:49:29,777 INFO Welcome to the CDS\n",
            "2022-08-20 20:49:29,780 INFO Sending request to https://cds.climate.copernicus.eu/api/v2/resources/projections-cmip6\n"
          ]
        },
        {
          "output_type": "stream",
          "name": "stdout",
          "text": [
            "['INM-CM4-8', 'ssp5_8_5']\n"
          ]
        },
        {
          "output_type": "stream",
          "name": "stderr",
          "text": [
            "2022-08-20 20:49:29,927 INFO Request is queued\n",
            "2022-08-20 20:49:31,060 INFO Request is running\n",
            "2022-08-20 20:52:22,484 INFO Request is completed\n",
            "2022-08-20 20:52:22,487 INFO Downloading https://download-0015-clone.copernicus-climate.eu/cache-compute-0015/cache/data7/adaptor.esgf_wps.retrieve-1661028687.7772777-20344-18-ca9da1fc-6ff4-46d2-aa99-fb963789cdcc.zip to temp.zip (12.6M)\n",
            "2022-08-20 20:52:24,725 INFO Download rate 5.7M/s\n"
          ]
        },
        {
          "output_type": "stream",
          "name": "stdout",
          "text": [
            "Trying conservative regridding\n",
            "Conservative regridding failed:\n",
            "Using bilinear regridding\n",
            "Overwrite existing file: bilinear_5x12_38x71.nc \n",
            " You can set reuse_weights=True to save computing time.\n",
            "using dimensions ('lat', 'lon') from data variable pr as the horizontal dimensions for this dataset.\n"
          ]
        },
        {
          "output_type": "stream",
          "name": "stderr",
          "text": [
            "/usr/local/lib/python3.7/site-packages/xesmf/frontend.py:486: FutureWarning: ``output_sizes`` should be given in the ``dask_gufunc_kwargs`` parameter. It will be removed as direct parameter in a future version.\n",
            "  keep_attrs=keep_attrs\n",
            "2022-08-20 20:52:34,117 INFO Welcome to the CDS\n",
            "2022-08-20 20:52:34,123 INFO Sending request to https://cds.climate.copernicus.eu/api/v2/resources/projections-cmip6\n"
          ]
        },
        {
          "output_type": "stream",
          "name": "stdout",
          "text": [
            "['INM-CM5-0', 'ssp2_4_5']\n"
          ]
        },
        {
          "output_type": "stream",
          "name": "stderr",
          "text": [
            "2022-08-20 20:52:34,283 INFO Request is queued\n",
            "2022-08-20 20:52:35,415 INFO Request is running\n",
            "2022-08-20 20:55:26,818 INFO Request is completed\n",
            "2022-08-20 20:55:26,820 INFO Downloading https://download-0010-clone.copernicus-climate.eu/cache-compute-0010/cache/data7/adaptor.esgf_wps.retrieve-1661028872.2823005-1466-6-7eb9a481-1f7d-4701-84c2-dcfe8d7a9eeb.zip to temp.zip (12.7M)\n",
            "2022-08-20 20:55:28,817 INFO Download rate 6.3M/s\n"
          ]
        },
        {
          "output_type": "stream",
          "name": "stdout",
          "text": [
            "Trying conservative regridding\n",
            "Conservative regridding failed:\n",
            "Using bilinear regridding\n",
            "Overwrite existing file: bilinear_5x12_38x71.nc \n",
            " You can set reuse_weights=True to save computing time.\n",
            "using dimensions ('lat', 'lon') from data variable pr as the horizontal dimensions for this dataset.\n"
          ]
        },
        {
          "output_type": "stream",
          "name": "stderr",
          "text": [
            "/usr/local/lib/python3.7/site-packages/xesmf/frontend.py:486: FutureWarning: ``output_sizes`` should be given in the ``dask_gufunc_kwargs`` parameter. It will be removed as direct parameter in a future version.\n",
            "  keep_attrs=keep_attrs\n",
            "2022-08-20 20:55:39,608 INFO Welcome to the CDS\n",
            "2022-08-20 20:55:39,610 INFO Sending request to https://cds.climate.copernicus.eu/api/v2/resources/projections-cmip6\n"
          ]
        },
        {
          "output_type": "stream",
          "name": "stdout",
          "text": [
            "['INM-CM5-0', 'ssp5_8_5']\n"
          ]
        },
        {
          "output_type": "stream",
          "name": "stderr",
          "text": [
            "2022-08-20 20:55:39,756 INFO Request is queued\n",
            "2022-08-20 20:55:40,886 INFO Request is running\n",
            "2022-08-20 20:58:32,628 INFO Request is completed\n",
            "2022-08-20 20:58:32,630 INFO Downloading https://download-0003-clone.copernicus-climate.eu/cache-compute-0003/cache/data9/adaptor.esgf_wps.retrieve-1661029066.92609-23344-18-8fe00942-0c2b-4289-9ff1-d1eb9e046b52.zip to temp.zip (13M)\n",
            "2022-08-20 20:58:34,750 INFO Download rate 6.2M/s\n"
          ]
        },
        {
          "output_type": "stream",
          "name": "stdout",
          "text": [
            "Trying conservative regridding\n",
            "Conservative regridding failed:\n",
            "Using bilinear regridding\n",
            "Overwrite existing file: bilinear_5x12_38x71.nc \n",
            " You can set reuse_weights=True to save computing time.\n",
            "using dimensions ('lat', 'lon') from data variable pr as the horizontal dimensions for this dataset.\n"
          ]
        },
        {
          "output_type": "stream",
          "name": "stderr",
          "text": [
            "/usr/local/lib/python3.7/site-packages/xesmf/frontend.py:486: FutureWarning: ``output_sizes`` should be given in the ``dask_gufunc_kwargs`` parameter. It will be removed as direct parameter in a future version.\n",
            "  keep_attrs=keep_attrs\n",
            "2022-08-20 20:58:44,200 INFO Welcome to the CDS\n",
            "2022-08-20 20:58:44,206 INFO Sending request to https://cds.climate.copernicus.eu/api/v2/resources/projections-cmip6\n"
          ]
        },
        {
          "output_type": "stream",
          "name": "stdout",
          "text": [
            "['IPSL-CM6A-LR', 'ssp2_4_5']\n"
          ]
        },
        {
          "output_type": "stream",
          "name": "stderr",
          "text": [
            "2022-08-20 20:58:44,371 INFO Request is queued\n",
            "2022-08-20 20:58:45,498 INFO Request is running\n",
            "2022-08-20 21:01:36,887 INFO Request is completed\n",
            "2022-08-20 21:01:36,890 INFO Downloading https://download-0002-clone.copernicus-climate.eu/cache-compute-0002/cache/data2/adaptor.esgf_wps.retrieve-1661029291.2139978-29847-17-1b314f44-2199-4f83-a3c9-04a67f165fee.zip to temp.zip (6.2M)\n",
            "2022-08-20 21:01:38,462 INFO Download rate 4M/s\n",
            "/usr/local/lib/python3.7/site-packages/xesmf/frontend.py:486: FutureWarning: ``output_sizes`` should be given in the ``dask_gufunc_kwargs`` parameter. It will be removed as direct parameter in a future version.\n",
            "  keep_attrs=keep_attrs\n",
            "2022-08-20 21:01:39,053 INFO Welcome to the CDS\n",
            "2022-08-20 21:01:39,055 INFO Sending request to https://cds.climate.copernicus.eu/api/v2/resources/projections-cmip6\n"
          ]
        },
        {
          "output_type": "stream",
          "name": "stdout",
          "text": [
            "Trying conservative regridding\n",
            "Conservative regridding failed:\n",
            "Using bilinear regridding\n",
            "Create weight file: bilinear_6x9_38x71.nc\n",
            "using dimensions ('time', 'axis_nbounds') from data variable time_bounds as the horizontal dimensions for this dataset.\n",
            "['IPSL-CM6A-LR', 'ssp5_8_5']\n"
          ]
        },
        {
          "output_type": "stream",
          "name": "stderr",
          "text": [
            "2022-08-20 21:01:39,194 INFO Request is queued\n",
            "2022-08-20 21:01:40,318 INFO Request is running\n",
            "2022-08-20 21:04:31,681 INFO Request is completed\n",
            "2022-08-20 21:04:31,684 INFO Downloading https://download-0010-clone.copernicus-climate.eu/cache-compute-0010/cache/data4/adaptor.esgf_wps.retrieve-1661029462.30077-10036-14-42540bfe-102f-4096-a4fa-732e4e694127.zip to temp.zip (6.3M)\n",
            "2022-08-20 21:04:33,252 INFO Download rate 4M/s\n",
            "/usr/local/lib/python3.7/site-packages/xesmf/frontend.py:486: FutureWarning: ``output_sizes`` should be given in the ``dask_gufunc_kwargs`` parameter. It will be removed as direct parameter in a future version.\n",
            "  keep_attrs=keep_attrs\n",
            "2022-08-20 21:04:33,803 INFO Welcome to the CDS\n",
            "2022-08-20 21:04:33,805 INFO Sending request to https://cds.climate.copernicus.eu/api/v2/resources/projections-cmip6\n"
          ]
        },
        {
          "output_type": "stream",
          "name": "stdout",
          "text": [
            "Trying conservative regridding\n",
            "Conservative regridding failed:\n",
            "Using bilinear regridding\n",
            "Overwrite existing file: bilinear_6x9_38x71.nc \n",
            " You can set reuse_weights=True to save computing time.\n",
            "using dimensions ('time', 'axis_nbounds') from data variable time_bounds as the horizontal dimensions for this dataset.\n",
            "['KACE-1-0-G', 'ssp2_4_5']\n"
          ]
        },
        {
          "output_type": "stream",
          "name": "stderr",
          "text": [
            "2022-08-20 21:04:33,941 INFO Request is queued\n",
            "2022-08-20 21:04:35,067 INFO Request is running\n",
            "2022-08-20 21:10:54,138 INFO Request is completed\n",
            "2022-08-20 21:10:54,145 INFO Downloading https://download-0015-clone.copernicus-climate.eu/cache-compute-0015/cache/data5/adaptor.esgf_wps.retrieve-1661029814.7921433-28897-15-f81e3e7f-7b17-4489-b0fb-496480965ec0.zip to temp.zip (10.8M)\n",
            "2022-08-20 21:10:56,137 INFO Download rate 5.4M/s\n"
          ]
        },
        {
          "output_type": "stream",
          "name": "stdout",
          "text": [
            "Trying conservative regridding\n",
            "Conservative regridding failed:\n",
            "Using bilinear regridding\n",
            "Overwrite existing file: bilinear_6x13_38x71.nc \n",
            " You can set reuse_weights=True to save computing time.\n",
            "using dimensions ('lat', 'lon') from data variable pr as the horizontal dimensions for this dataset.\n"
          ]
        },
        {
          "output_type": "stream",
          "name": "stderr",
          "text": [
            "/usr/local/lib/python3.7/site-packages/xesmf/frontend.py:486: FutureWarning: ``output_sizes`` should be given in the ``dask_gufunc_kwargs`` parameter. It will be removed as direct parameter in a future version.\n",
            "  keep_attrs=keep_attrs\n",
            "2022-08-20 21:11:05,922 INFO Welcome to the CDS\n",
            "2022-08-20 21:11:05,924 INFO Sending request to https://cds.climate.copernicus.eu/api/v2/resources/projections-cmip6\n"
          ]
        },
        {
          "output_type": "stream",
          "name": "stdout",
          "text": [
            "['KACE-1-0-G', 'ssp5_8_5']\n"
          ]
        },
        {
          "output_type": "stream",
          "name": "stderr",
          "text": [
            "2022-08-20 21:11:06,063 INFO Request is queued\n",
            "2022-08-20 21:11:07,195 INFO Request is running\n",
            "2022-08-20 21:13:58,599 INFO Request is completed\n",
            "2022-08-20 21:13:58,601 INFO Downloading https://download-0011-clone.copernicus-climate.eu/cache-compute-0011/cache/data0/adaptor.esgf_wps.retrieve-1661029997.8741035-11885-11-dbb6aefd-fa80-4cad-a276-0bee4059f35d.zip to temp.zip (13.1M)\n",
            "2022-08-20 21:14:00,705 INFO Download rate 6.2M/s\n"
          ]
        },
        {
          "output_type": "stream",
          "name": "stdout",
          "text": [
            "Trying conservative regridding\n",
            "Conservative regridding failed:\n",
            "Using bilinear regridding\n",
            "Overwrite existing file: bilinear_6x13_38x71.nc \n",
            " You can set reuse_weights=True to save computing time.\n",
            "using dimensions ('lat', 'lon') from data variable pr as the horizontal dimensions for this dataset.\n"
          ]
        },
        {
          "output_type": "stream",
          "name": "stderr",
          "text": [
            "/usr/local/lib/python3.7/site-packages/xesmf/frontend.py:486: FutureWarning: ``output_sizes`` should be given in the ``dask_gufunc_kwargs`` parameter. It will be removed as direct parameter in a future version.\n",
            "  keep_attrs=keep_attrs\n",
            "2022-08-20 21:14:11,617 INFO Welcome to the CDS\n",
            "2022-08-20 21:14:11,619 INFO Sending request to https://cds.climate.copernicus.eu/api/v2/resources/projections-cmip6\n"
          ]
        },
        {
          "output_type": "stream",
          "name": "stdout",
          "text": [
            "['KIOST-ESM', 'ssp2_4_5']\n"
          ]
        },
        {
          "output_type": "stream",
          "name": "stderr",
          "text": [
            "2022-08-20 21:14:11,758 INFO Request is queued\n",
            "2022-08-20 21:14:12,890 INFO Request is running\n",
            "2022-08-20 21:16:06,490 INFO Request is completed\n",
            "2022-08-20 21:16:06,493 INFO Downloading https://download-0015-clone.copernicus-climate.eu/cache-compute-0015/cache/data6/adaptor.esgf_wps.retrieve-1661030155.6288822-30235-18-0df422d5-334b-4c50-ac79-ebeeaa0feebf.zip to temp.zip (10.2M)\n",
            "2022-08-20 21:16:08,473 INFO Download rate 5.2M/s\n"
          ]
        },
        {
          "output_type": "stream",
          "name": "stdout",
          "text": [
            "Trying conservative regridding\n",
            "Conservative regridding failed:\n",
            "Using bilinear regridding\n",
            "Overwrite existing file: bilinear_4x13_38x71.nc \n",
            " You can set reuse_weights=True to save computing time.\n",
            "using dimensions ('lat', 'lon') from data variable pr as the horizontal dimensions for this dataset.\n"
          ]
        },
        {
          "output_type": "stream",
          "name": "stderr",
          "text": [
            "/usr/local/lib/python3.7/site-packages/xesmf/frontend.py:486: FutureWarning: ``output_sizes`` should be given in the ``dask_gufunc_kwargs`` parameter. It will be removed as direct parameter in a future version.\n",
            "  keep_attrs=keep_attrs\n",
            "2022-08-20 21:16:18,257 INFO Welcome to the CDS\n",
            "2022-08-20 21:16:18,259 INFO Sending request to https://cds.climate.copernicus.eu/api/v2/resources/projections-cmip6\n"
          ]
        },
        {
          "output_type": "stream",
          "name": "stdout",
          "text": [
            "['KIOST-ESM', 'ssp5_8_5']\n"
          ]
        },
        {
          "output_type": "stream",
          "name": "stderr",
          "text": [
            "2022-08-20 21:16:18,429 INFO Request is queued\n",
            "2022-08-20 21:16:19,562 INFO Request is failed\n",
            "2022-08-20 21:16:19,564 ERROR Message: an internal error occurred processing your request\n",
            "2022-08-20 21:16:19,566 ERROR Reason:  No matching data for request {'experiment': 'ssp585', 'model': 'KIOST-ESM', 'temporal_resolution': 'day', 'variable': 'pr'}\n",
            "2022-08-20 21:16:19,570 ERROR   Traceback (most recent call last):\n",
            "2022-08-20 21:16:19,575 ERROR     File \"/opt/cdstoolbox/cdscompute/cdscompute/cdshandlers/services/handler.py\", line 59, in handle_request\n",
            "2022-08-20 21:16:19,581 ERROR       result = cached(context.method, proc, context, context.args, context.kwargs)\n",
            "2022-08-20 21:16:19,585 ERROR     File \"/opt/cdstoolbox/cdscompute/cdscompute/caching.py\", line 108, in cached\n",
            "2022-08-20 21:16:19,587 ERROR       result = proc(context, *context.args, **context.kwargs)\n",
            "2022-08-20 21:16:19,589 ERROR     File \"/opt/cdstoolbox/cdscompute/cdscompute/services.py\", line 124, in __call__\n",
            "2022-08-20 21:16:19,591 ERROR       return p(*args, **kwargs)\n",
            "2022-08-20 21:16:19,594 ERROR     File \"/opt/cdstoolbox/cdscompute/cdscompute/services.py\", line 60, in __call__\n",
            "2022-08-20 21:16:19,595 ERROR       return self.proc(context, *args, **kwargs)\n",
            "2022-08-20 21:16:19,598 ERROR     File \"/home/cds/cdsservices/services/esgf_wps/__init__.py\", line 30, in execute\n",
            "2022-08-20 21:16:19,603 ERROR       request_facets, request = facets.search(context, request)\n",
            "2022-08-20 21:16:19,605 ERROR     File \"/home/cds/cdsservices/services/esgf_wps/facets.py\", line 59, in search\n",
            "2022-08-20 21:16:19,607 ERROR       raise ValueError(f'No matching data for request {tmp_request}')\n",
            "2022-08-20 21:16:19,610 ERROR   ValueError: No matching data for request {'experiment': 'ssp585', 'model': 'KIOST-ESM', 'temporal_resolution': 'day', 'variable': 'pr'}\n",
            "2022-08-20 21:16:19,743 INFO Welcome to the CDS\n",
            "2022-08-20 21:16:19,745 INFO Sending request to https://cds.climate.copernicus.eu/api/v2/resources/projections-cmip6\n"
          ]
        },
        {
          "output_type": "stream",
          "name": "stdout",
          "text": [
            "['MIROC6', 'ssp2_4_5']\n"
          ]
        },
        {
          "output_type": "stream",
          "name": "stderr",
          "text": [
            "2022-08-20 21:16:19,892 INFO Request is queued\n",
            "2022-08-20 21:16:21,022 INFO Request is running\n",
            "2022-08-20 21:19:12,389 INFO Request is completed\n",
            "2022-08-20 21:19:12,392 INFO Downloading https://download-0017.copernicus-climate.eu/cache-compute-0017/cache/data9/adaptor.esgf_wps.retrieve-1661030302.5130823-17854-19-5cad5f38-d751-444a-99ab-314ad717b26e.zip to temp.zip (14.1M)\n",
            "2022-08-20 21:19:14,636 INFO Download rate 6.3M/s\n"
          ]
        },
        {
          "output_type": "stream",
          "name": "stdout",
          "text": [
            "Trying conservative regridding\n",
            "Conservative regridding failed:\n",
            "Using bilinear regridding\n",
            "Overwrite existing file: bilinear_5x18_38x71.nc \n",
            " You can set reuse_weights=True to save computing time.\n",
            "using dimensions ('lat', 'lon') from data variable pr as the horizontal dimensions for this dataset.\n"
          ]
        },
        {
          "output_type": "stream",
          "name": "stderr",
          "text": [
            "/usr/local/lib/python3.7/site-packages/xesmf/frontend.py:486: FutureWarning: ``output_sizes`` should be given in the ``dask_gufunc_kwargs`` parameter. It will be removed as direct parameter in a future version.\n",
            "  keep_attrs=keep_attrs\n",
            "2022-08-20 21:19:25,562 INFO Welcome to the CDS\n",
            "2022-08-20 21:19:25,565 INFO Sending request to https://cds.climate.copernicus.eu/api/v2/resources/projections-cmip6\n"
          ]
        },
        {
          "output_type": "stream",
          "name": "stdout",
          "text": [
            "['MIROC6', 'ssp5_8_5']\n"
          ]
        },
        {
          "output_type": "stream",
          "name": "stderr",
          "text": [
            "2022-08-20 21:19:25,734 INFO Request is queued\n",
            "2022-08-20 21:19:26,867 INFO Request is running\n",
            "2022-08-20 21:22:18,302 INFO Request is completed\n",
            "2022-08-20 21:22:18,305 INFO Downloading https://download-0017.copernicus-climate.eu/cache-compute-0017/cache/data8/adaptor.esgf_wps.retrieve-1661030491.223098-18161-20-e698808d-c933-4f9a-96a9-c7bcd3893191.zip to temp.zip (14.1M)\n",
            "2022-08-20 21:22:20,639 INFO Download rate 6.1M/s\n"
          ]
        },
        {
          "output_type": "stream",
          "name": "stdout",
          "text": [
            "Trying conservative regridding\n",
            "Conservative regridding failed:\n",
            "Using bilinear regridding\n",
            "Overwrite existing file: bilinear_5x18_38x71.nc \n",
            " You can set reuse_weights=True to save computing time.\n",
            "using dimensions ('lat', 'lon') from data variable pr as the horizontal dimensions for this dataset.\n"
          ]
        },
        {
          "output_type": "stream",
          "name": "stderr",
          "text": [
            "/usr/local/lib/python3.7/site-packages/xesmf/frontend.py:486: FutureWarning: ``output_sizes`` should be given in the ``dask_gufunc_kwargs`` parameter. It will be removed as direct parameter in a future version.\n",
            "  keep_attrs=keep_attrs\n",
            "2022-08-20 21:22:31,782 INFO Welcome to the CDS\n",
            "2022-08-20 21:22:31,784 INFO Sending request to https://cds.climate.copernicus.eu/api/v2/resources/projections-cmip6\n"
          ]
        },
        {
          "output_type": "stream",
          "name": "stdout",
          "text": [
            "['MIROC-ES2L', 'ssp2_4_5']\n"
          ]
        },
        {
          "output_type": "stream",
          "name": "stderr",
          "text": [
            "2022-08-20 21:22:31,952 INFO Request is queued\n",
            "2022-08-20 21:22:33,084 INFO Request is running\n",
            "2022-08-20 21:23:22,296 INFO Request is completed\n",
            "2022-08-20 21:23:22,298 INFO Downloading https://download-0017.copernicus-climate.eu/cache-compute-0017/cache/data7/adaptor.esgf_wps.retrieve-1661030590.3310905-24852-12-e0277b75-370b-40c6-af04-9792e458d0a3.zip to temp.zip (6M)\n",
            "2022-08-20 21:23:23,483 INFO Download rate 5.1M/s\n",
            "/usr/local/lib/python3.7/site-packages/xesmf/frontend.py:486: FutureWarning: ``output_sizes`` should be given in the ``dask_gufunc_kwargs`` parameter. It will be removed as direct parameter in a future version.\n",
            "  keep_attrs=keep_attrs\n"
          ]
        },
        {
          "output_type": "stream",
          "name": "stdout",
          "text": [
            "Trying conservative regridding\n",
            "Conservative regridding failed:\n",
            "Using bilinear regridding\n",
            "Overwrite existing file: bilinear_2x9_38x71.nc \n",
            " You can set reuse_weights=True to save computing time.\n",
            "using dimensions ('lat', 'lon') from data variable pr as the horizontal dimensions for this dataset.\n"
          ]
        },
        {
          "output_type": "stream",
          "name": "stderr",
          "text": [
            "2022-08-20 21:23:32,860 INFO Welcome to the CDS\n",
            "2022-08-20 21:23:32,862 INFO Sending request to https://cds.climate.copernicus.eu/api/v2/resources/projections-cmip6\n"
          ]
        },
        {
          "output_type": "stream",
          "name": "stdout",
          "text": [
            "['MIROC-ES2L', 'ssp5_8_5']\n"
          ]
        },
        {
          "output_type": "stream",
          "name": "stderr",
          "text": [
            "2022-08-20 21:23:33,020 INFO Request is queued\n",
            "2022-08-20 21:23:34,152 INFO Request is running\n",
            "2022-08-20 21:24:49,137 INFO Request is completed\n",
            "2022-08-20 21:24:49,140 INFO Downloading https://download-0011-clone.copernicus-climate.eu/cache-compute-0011/cache/data4/adaptor.esgf_wps.retrieve-1661030669.4876907-19640-17-024a5ca0-f7ac-4736-bce2-8ae91a004fc0.zip to temp.zip (6M)\n",
            "2022-08-20 21:24:50,874 INFO Download rate 3.5M/s\n",
            "/usr/local/lib/python3.7/site-packages/xesmf/frontend.py:486: FutureWarning: ``output_sizes`` should be given in the ``dask_gufunc_kwargs`` parameter. It will be removed as direct parameter in a future version.\n",
            "  keep_attrs=keep_attrs\n"
          ]
        },
        {
          "output_type": "stream",
          "name": "stdout",
          "text": [
            "Trying conservative regridding\n",
            "Conservative regridding failed:\n",
            "Using bilinear regridding\n",
            "Overwrite existing file: bilinear_2x9_38x71.nc \n",
            " You can set reuse_weights=True to save computing time.\n",
            "using dimensions ('lat', 'lon') from data variable pr as the horizontal dimensions for this dataset.\n"
          ]
        },
        {
          "output_type": "stream",
          "name": "stderr",
          "text": [
            "2022-08-20 21:25:00,295 INFO Welcome to the CDS\n",
            "2022-08-20 21:25:00,299 INFO Sending request to https://cds.climate.copernicus.eu/api/v2/resources/projections-cmip6\n"
          ]
        },
        {
          "output_type": "stream",
          "name": "stdout",
          "text": [
            "['MPI-ESM1-2-LR', 'ssp2_4_5']\n"
          ]
        },
        {
          "output_type": "stream",
          "name": "stderr",
          "text": [
            "2022-08-20 21:25:00,467 INFO Request is queued\n",
            "2022-08-20 21:25:01,598 INFO Request is running\n",
            "2022-08-20 21:26:16,581 INFO Request is completed\n",
            "2022-08-20 21:26:16,583 INFO Downloading https://download-0017.copernicus-climate.eu/cache-compute-0017/cache/data8/adaptor.esgf_wps.retrieve-1661030762.900514-25463-20-f51f9079-1abb-41cc-9ee7-d60f8b08f337.zip to temp.zip (8.1M)\n",
            "2022-08-20 21:26:18,467 INFO Download rate 4.3M/s\n"
          ]
        },
        {
          "output_type": "stream",
          "name": "stdout",
          "text": [
            "Trying conservative regridding\n",
            "Conservative regridding failed:\n",
            "Using bilinear regridding\n",
            "Overwrite existing file: bilinear_4x13_38x71.nc \n",
            " You can set reuse_weights=True to save computing time.\n",
            "using dimensions ('lat', 'lon') from data variable pr as the horizontal dimensions for this dataset.\n"
          ]
        },
        {
          "output_type": "stream",
          "name": "stderr",
          "text": [
            "/usr/local/lib/python3.7/site-packages/xesmf/frontend.py:486: FutureWarning: ``output_sizes`` should be given in the ``dask_gufunc_kwargs`` parameter. It will be removed as direct parameter in a future version.\n",
            "  keep_attrs=keep_attrs\n",
            "2022-08-20 21:26:27,952 INFO Welcome to the CDS\n",
            "2022-08-20 21:26:27,954 INFO Sending request to https://cds.climate.copernicus.eu/api/v2/resources/projections-cmip6\n"
          ]
        },
        {
          "output_type": "stream",
          "name": "stdout",
          "text": [
            "['MPI-ESM1-2-LR', 'ssp5_8_5']\n"
          ]
        },
        {
          "output_type": "stream",
          "name": "stderr",
          "text": [
            "2022-08-20 21:26:28,093 INFO Request is queued\n",
            "2022-08-20 21:26:29,224 INFO Request is running\n",
            "2022-08-20 21:27:44,543 INFO Request is completed\n",
            "2022-08-20 21:27:44,546 INFO Downloading https://download-0017.copernicus-climate.eu/cache-compute-0017/cache/data9/adaptor.esgf_wps.retrieve-1661030850.403795-26680-18-fd0e29ac-9445-4a8c-afd6-2bd5d30c7590.zip to temp.zip (8.1M)\n",
            "2022-08-20 21:27:46,415 INFO Download rate 4.4M/s\n"
          ]
        },
        {
          "output_type": "stream",
          "name": "stdout",
          "text": [
            "Trying conservative regridding\n",
            "Conservative regridding failed:\n",
            "Using bilinear regridding\n",
            "Overwrite existing file: bilinear_4x13_38x71.nc \n",
            " You can set reuse_weights=True to save computing time.\n",
            "using dimensions ('lat', 'lon') from data variable pr as the horizontal dimensions for this dataset.\n"
          ]
        },
        {
          "output_type": "stream",
          "name": "stderr",
          "text": [
            "/usr/local/lib/python3.7/site-packages/xesmf/frontend.py:486: FutureWarning: ``output_sizes`` should be given in the ``dask_gufunc_kwargs`` parameter. It will be removed as direct parameter in a future version.\n",
            "  keep_attrs=keep_attrs\n",
            "2022-08-20 21:27:55,917 INFO Welcome to the CDS\n",
            "2022-08-20 21:27:55,919 INFO Sending request to https://cds.climate.copernicus.eu/api/v2/resources/projections-cmip6\n"
          ]
        },
        {
          "output_type": "stream",
          "name": "stdout",
          "text": [
            "['MRI-ESM2-0', 'ssp2_4_5']\n"
          ]
        },
        {
          "output_type": "stream",
          "name": "stderr",
          "text": [
            "2022-08-20 21:27:56,071 INFO Request is queued\n",
            "2022-08-20 21:27:57,197 INFO Request is running\n",
            "2022-08-20 21:30:48,540 INFO Request is completed\n",
            "2022-08-20 21:30:48,542 INFO Downloading https://download-0015-clone.copernicus-climate.eu/cache-compute-0015/cache/data5/adaptor.esgf_wps.retrieve-1661031015.47477-8194-19-c5dcf582-3c7d-473c-96e6-765585b242a9.zip to temp.zip (27.4M)\n",
            "2022-08-20 21:30:51,483 INFO Download rate 9.3M/s\n"
          ]
        },
        {
          "output_type": "stream",
          "name": "stdout",
          "text": [
            "Trying conservative regridding\n",
            "Conservative regridding failed:\n",
            "Using bilinear regridding\n",
            "Overwrite existing file: bilinear_7x22_38x71.nc \n",
            " You can set reuse_weights=True to save computing time.\n",
            "using dimensions ('lat', 'lon') from data variable pr as the horizontal dimensions for this dataset.\n"
          ]
        },
        {
          "output_type": "stream",
          "name": "stderr",
          "text": [
            "/usr/local/lib/python3.7/site-packages/xesmf/frontend.py:486: FutureWarning: ``output_sizes`` should be given in the ``dask_gufunc_kwargs`` parameter. It will be removed as direct parameter in a future version.\n",
            "  keep_attrs=keep_attrs\n",
            "2022-08-20 21:31:01,318 INFO Welcome to the CDS\n",
            "2022-08-20 21:31:01,321 INFO Sending request to https://cds.climate.copernicus.eu/api/v2/resources/projections-cmip6\n"
          ]
        },
        {
          "output_type": "stream",
          "name": "stdout",
          "text": [
            "['MRI-ESM2-0', 'ssp5_8_5']\n"
          ]
        },
        {
          "output_type": "stream",
          "name": "stderr",
          "text": [
            "2022-08-20 21:31:01,455 INFO Request is queued\n",
            "2022-08-20 21:31:02,581 INFO Request is running\n",
            "2022-08-20 21:33:53,926 INFO Request is completed\n",
            "2022-08-20 21:33:53,930 INFO Downloading https://download-0011-clone.copernicus-climate.eu/cache-compute-0011/cache/data4/adaptor.esgf_wps.retrieve-1661031200.8554473-21737-17-e1507a01-ded2-4837-8e93-d13017eb3835.zip to temp.zip (27.4M)\n",
            "2022-08-20 21:33:56,867 INFO Download rate 9.4M/s\n"
          ]
        },
        {
          "output_type": "stream",
          "name": "stdout",
          "text": [
            "Trying conservative regridding\n",
            "Conservative regridding failed:\n",
            "Using bilinear regridding\n",
            "Overwrite existing file: bilinear_7x22_38x71.nc \n",
            " You can set reuse_weights=True to save computing time.\n",
            "using dimensions ('lat', 'lon') from data variable pr as the horizontal dimensions for this dataset.\n"
          ]
        },
        {
          "output_type": "stream",
          "name": "stderr",
          "text": [
            "/usr/local/lib/python3.7/site-packages/xesmf/frontend.py:486: FutureWarning: ``output_sizes`` should be given in the ``dask_gufunc_kwargs`` parameter. It will be removed as direct parameter in a future version.\n",
            "  keep_attrs=keep_attrs\n",
            "2022-08-20 21:34:06,703 INFO Welcome to the CDS\n",
            "2022-08-20 21:34:06,705 INFO Sending request to https://cds.climate.copernicus.eu/api/v2/resources/projections-cmip6\n"
          ]
        },
        {
          "output_type": "stream",
          "name": "stdout",
          "text": [
            "['NESM3', 'ssp2_4_5']\n"
          ]
        },
        {
          "output_type": "stream",
          "name": "stderr",
          "text": [
            "2022-08-20 21:34:06,858 INFO Request is queued\n",
            "2022-08-20 21:34:07,984 INFO Request is running\n",
            "2022-08-20 21:35:22,932 INFO Request is completed\n",
            "2022-08-20 21:35:22,935 INFO Downloading https://download-0002-clone.copernicus-climate.eu/cache-compute-0002/cache/data6/adaptor.esgf_wps.retrieve-1661031306.2968018-12118-17-323db040-33c9-48e1-ae71-c2152794b518.zip to temp.zip (8.5M)\n",
            "2022-08-20 21:35:24,896 INFO Download rate 4.3M/s\n",
            "/usr/local/lib/python3.7/site-packages/xesmf/frontend.py:486: FutureWarning: ``output_sizes`` should be given in the ``dask_gufunc_kwargs`` parameter. It will be removed as direct parameter in a future version.\n",
            "  keep_attrs=keep_attrs\n"
          ]
        },
        {
          "output_type": "stream",
          "name": "stdout",
          "text": [
            "Trying conservative regridding\n",
            "Conservative regridding failed:\n",
            "Using bilinear regridding\n",
            "Overwrite existing file: bilinear_4x13_38x71.nc \n",
            " You can set reuse_weights=True to save computing time.\n",
            "using dimensions ('lat', 'lon') from data variable pr as the horizontal dimensions for this dataset.\n"
          ]
        },
        {
          "output_type": "stream",
          "name": "stderr",
          "text": [
            "2022-08-20 21:35:34,372 INFO Welcome to the CDS\n",
            "2022-08-20 21:35:34,377 INFO Sending request to https://cds.climate.copernicus.eu/api/v2/resources/projections-cmip6\n"
          ]
        },
        {
          "output_type": "stream",
          "name": "stdout",
          "text": [
            "['NESM3', 'ssp5_8_5']\n"
          ]
        },
        {
          "output_type": "stream",
          "name": "stderr",
          "text": [
            "2022-08-20 21:35:34,525 INFO Request is queued\n",
            "2022-08-20 21:35:35,651 INFO Request is running\n",
            "2022-08-20 21:36:50,608 INFO Request is completed\n",
            "2022-08-20 21:36:50,610 INFO Downloading https://download-0003-clone.copernicus-climate.eu/cache-compute-0003/cache/data2/adaptor.esgf_wps.retrieve-1661031391.6351068-6132-20-906963d0-5c75-4019-a973-f2f3d385e6e2.zip to temp.zip (8.6M)\n",
            "2022-08-20 21:36:52,301 INFO Download rate 5.1M/s\n",
            "/usr/local/lib/python3.7/site-packages/xesmf/frontend.py:486: FutureWarning: ``output_sizes`` should be given in the ``dask_gufunc_kwargs`` parameter. It will be removed as direct parameter in a future version.\n",
            "  keep_attrs=keep_attrs\n"
          ]
        },
        {
          "output_type": "stream",
          "name": "stdout",
          "text": [
            "Trying conservative regridding\n",
            "Conservative regridding failed:\n",
            "Using bilinear regridding\n",
            "Overwrite existing file: bilinear_4x13_38x71.nc \n",
            " You can set reuse_weights=True to save computing time.\n",
            "using dimensions ('lat', 'lon') from data variable pr as the horizontal dimensions for this dataset.\n"
          ]
        },
        {
          "output_type": "stream",
          "name": "stderr",
          "text": [
            "2022-08-20 21:37:03,516 INFO Welcome to the CDS\n",
            "2022-08-20 21:37:03,519 INFO Sending request to https://cds.climate.copernicus.eu/api/v2/resources/projections-cmip6\n"
          ]
        },
        {
          "output_type": "stream",
          "name": "stdout",
          "text": [
            "['NorESM2-LM', 'ssp2_4_5']\n"
          ]
        },
        {
          "output_type": "stream",
          "name": "stderr",
          "text": [
            "2022-08-20 21:37:03,671 INFO Request is queued\n",
            "2022-08-20 21:37:04,796 INFO Request is running\n",
            "2022-08-20 21:38:19,743 INFO Request is completed\n",
            "2022-08-20 21:38:19,749 INFO Downloading https://download-0011-clone.copernicus-climate.eu/cache-compute-0011/cache/data5/adaptor.esgf_wps.retrieve-1661031492.3305624-23156-16-ecc1b258-c208-4d4a-ac08-5f5c7e68ad45.zip to temp.zip (7.9M)\n",
            "2022-08-20 21:38:21,513 INFO Download rate 4.5M/s\n"
          ]
        },
        {
          "output_type": "stream",
          "name": "stdout",
          "text": [
            "Trying conservative regridding\n",
            "Conservative regridding failed:\n",
            "Using bilinear regridding\n",
            "Create weight file: bilinear_4x9_38x71.nc\n",
            "using dimensions ('lat', 'lon') from data variable pr as the horizontal dimensions for this dataset.\n"
          ]
        },
        {
          "output_type": "stream",
          "name": "stderr",
          "text": [
            "/usr/local/lib/python3.7/site-packages/xesmf/frontend.py:486: FutureWarning: ``output_sizes`` should be given in the ``dask_gufunc_kwargs`` parameter. It will be removed as direct parameter in a future version.\n",
            "  keep_attrs=keep_attrs\n",
            "2022-08-20 21:38:30,924 INFO Welcome to the CDS\n",
            "2022-08-20 21:38:30,926 INFO Sending request to https://cds.climate.copernicus.eu/api/v2/resources/projections-cmip6\n"
          ]
        },
        {
          "output_type": "stream",
          "name": "stdout",
          "text": [
            "['NorESM2-LM', 'ssp5_8_5']\n"
          ]
        },
        {
          "output_type": "stream",
          "name": "stderr",
          "text": [
            "2022-08-20 21:38:31,082 INFO Request is queued\n",
            "2022-08-20 21:38:32,209 INFO Request is running\n",
            "2022-08-20 21:39:47,135 INFO Request is completed\n",
            "2022-08-20 21:39:47,138 INFO Downloading https://download-0006-clone.copernicus-climate.eu/cache-compute-0006/cache/data4/adaptor.esgf_wps.retrieve-1661031579.818009-24344-18-6ddcfe94-05b3-42c4-9d4e-74a4e4b09033.zip to temp.zip (7.9M)\n",
            "2022-08-20 21:39:48,900 INFO Download rate 4.5M/s\n"
          ]
        },
        {
          "output_type": "stream",
          "name": "stdout",
          "text": [
            "Trying conservative regridding\n",
            "Conservative regridding failed:\n",
            "Using bilinear regridding\n",
            "Overwrite existing file: bilinear_4x9_38x71.nc \n",
            " You can set reuse_weights=True to save computing time.\n",
            "using dimensions ('lat', 'lon') from data variable pr as the horizontal dimensions for this dataset.\n"
          ]
        },
        {
          "output_type": "stream",
          "name": "stderr",
          "text": [
            "/usr/local/lib/python3.7/site-packages/xesmf/frontend.py:486: FutureWarning: ``output_sizes`` should be given in the ``dask_gufunc_kwargs`` parameter. It will be removed as direct parameter in a future version.\n",
            "  keep_attrs=keep_attrs\n",
            "2022-08-20 21:39:59,795 INFO Welcome to the CDS\n",
            "2022-08-20 21:39:59,796 INFO Sending request to https://cds.climate.copernicus.eu/api/v2/resources/projections-cmip6\n"
          ]
        },
        {
          "output_type": "stream",
          "name": "stdout",
          "text": [
            "['NorESM2-MM', 'ssp2_4_5']\n"
          ]
        },
        {
          "output_type": "stream",
          "name": "stderr",
          "text": [
            "2022-08-20 21:39:59,933 INFO Request is queued\n",
            "2022-08-20 21:40:01,060 INFO Request is running\n"
          ]
        }
      ]
    },
    {
      "cell_type": "code",
      "source": [
        "writer = pd.ExcelWriter('results_historical.xlsx',mode='a',if_sheet_exists='replace', engine=\"openpyxl\")\n",
        "for i, ii in enumerate(source):\n",
        "  for j, jj in enumerate(['historical']):\n",
        "    print([ii,jj])\n",
        "    try:\n",
        "      rh = era5_extractor(jj,ii)\n",
        "    except:\n",
        "      continue\n",
        "    cb = sort_precip(rh)\n",
        "    cb.to_excel(writer, sheet_name=ii+'_'+jj)\n",
        "\n",
        "writer.save()"
      ],
      "metadata": {
        "id": "sRI3HpT-G7TW"
      },
      "execution_count": null,
      "outputs": []
    }
  ]
}